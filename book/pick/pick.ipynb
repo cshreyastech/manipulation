{
 "cells": [
  {
   "cell_type": "markdown",
   "id": "3b37ff68",
   "metadata": {
    "colab_type": "text",
    "id": "EgiF12Hf1Dhs"
   },
   "source": [
    "This notebook provides examples to go along with the [textbook](http://manipulation.csail.mit.edu/pick.html).  I recommend having both windows open, side-by-side!"
   ]
  },
  {
   "cell_type": "code",
   "execution_count": 15,
   "id": "266dd9b1",
   "metadata": {
    "colab": {},
    "colab_type": "code",
    "id": "eeMrMI0-1Dhu"
   },
   "outputs": [],
   "source": [
    "import mpld3\n",
    "import numpy as np\n",
    "from matplotlib import pyplot as plt\n",
    "from pydrake.all import (\n",
    "    AddMultibodyPlantSceneGraph,\n",
    "    AngleAxis,\n",
    "    DiagramBuilder,\n",
    "    Integrator,\n",
    "    JacobianWrtVariable,\n",
    "    LeafSystem,\n",
    "    MeshcatVisualizer,\n",
    "    MultibodyPlant,\n",
    "    MultibodyPositionToGeometryPose,\n",
    "    Parser,\n",
    "    PiecewisePolynomial,\n",
    "    PiecewisePose,\n",
    "    Quaternion,\n",
    "    Rgba,\n",
    "    RigidTransform,\n",
    "    RotationMatrix,\n",
    "    SceneGraph,\n",
    "    Simulator,\n",
    "    StartMeshcat,\n",
    "    TrajectorySource,\n",
    ")\n",
    "\n",
    "from manipulation import running_as_notebook\n",
    "from manipulation.station import LoadScenario, MakeHardwareStation\n",
    "from manipulation.utils import RenderDiagram\n",
    "\n",
    "if running_as_notebook:\n",
    "    mpld3.enable_notebook()"
   ]
  },
  {
   "cell_type": "code",
   "execution_count": 16,
   "id": "775ae792",
   "metadata": {},
   "outputs": [
    {
     "name": "stderr",
     "output_type": "stream",
     "text": [
      "INFO:drake:Meshcat listening for connections at http://localhost:7006\n"
     ]
    }
   ],
   "source": [
    "# Start the visualizer.\n",
    "meshcat = StartMeshcat()"
   ]
  },
  {
   "cell_type": "markdown",
   "id": "ab973037",
   "metadata": {
    "colab_type": "text",
    "id": "d5p2tbJWrWZ5"
   },
   "source": [
    "# A pick and place \"sketch\" with keyframes\n",
    "\n",
    "Let's first define the canonical frames of our problem.  We've got a handful of them, and will pass them in and out of several functions, so I'll use a dictionary to store them.\n",
    "\n",
    "Note: I've added one more frame into the mix here, to get some clearance when moving between the bins.  Leaving it out gave me a nice [robot outtake](http://manipulation.csail.mit.edu/data/pick_fail.html)."
   ]
  },
  {
   "cell_type": "code",
   "execution_count": 17,
   "id": "9c01c2d6",
   "metadata": {
    "colab": {},
    "colab_type": "code",
    "id": "zYuRDF6mSBx5"
   },
   "outputs": [
    {
     "name": "stdout",
     "output_type": "stream",
     "text": [
      "Sanity check: The entire maneuver will take 30.900220749318255 seconds to execute.\n"
     ]
    }
   ],
   "source": [
    "def MakeGripperFrames(X_WG, X_WO):\n",
    "    \"\"\"\n",
    "    Takes a partial specification with X_G[\"initial\"] and X_O[\"initial\"] and\n",
    "    X_0[\"goal\"], and returns a X_G and times with all of the pick and place\n",
    "    frames populated.\n",
    "    \"\"\"\n",
    "    # Define (again) the gripper pose relative to the object when in grasp.\n",
    "    p_GgraspO = [0, 0.12, 0]\n",
    "    R_GgraspO = RotationMatrix.MakeXRotation(\n",
    "        np.pi / 2.0\n",
    "    ) @ RotationMatrix.MakeZRotation(np.pi / 2.0)\n",
    "    X_GgraspO = RigidTransform(R_GgraspO, p_GgraspO)\n",
    "    X_OGgrasp = X_GgraspO.inverse()\n",
    "    # pregrasp is negative y in the gripper frame (see the figure!).\n",
    "    X_GgraspGpregrasp = RigidTransform([0, -0.08, 0])\n",
    "\n",
    "    X_WG[\"pick\"] = X_WO[\"initial\"] @ X_OGgrasp\n",
    "    X_WG[\"prepick\"] = X_WG[\"pick\"] @ X_GgraspGpregrasp\n",
    "    X_WG[\"place\"] = X_WO[\"goal\"] @ X_OGgrasp\n",
    "    X_WG[\"preplace\"] = X_WG[\"place\"] @ X_GgraspGpregrasp\n",
    "\n",
    "    # I'll interpolate a halfway orientation by converting to axis angle and halving the angle.\n",
    "    X_GprepickGpreplace = X_WG[\"prepick\"].inverse() @ X_WG[\"preplace\"]\n",
    "    angle_axis = X_GprepickGpreplace.rotation().ToAngleAxis()\n",
    "    X_GprepickGclearance = RigidTransform(\n",
    "        AngleAxis(angle=angle_axis.angle() / 2.0, axis=angle_axis.axis()),\n",
    "        X_GprepickGpreplace.translation() / 2.0 + np.array([0, -0.3, 0]),\n",
    "    )\n",
    "    X_WG[\"clearance\"] = X_WG[\"prepick\"] @ X_GprepickGclearance\n",
    "\n",
    "    # Now let's set the timing\n",
    "    times = {\"initial\": 0}\n",
    "    X_GinitialGprepick = X_G[\"initial\"].inverse() @ X_WG[\"prepick\"]\n",
    "    times[\"prepick\"] = times[\"initial\"] + 10.0 * np.linalg.norm(\n",
    "        X_GinitialGprepick.translation()\n",
    "    )\n",
    "    # Allow some time for the gripper to close.\n",
    "    times[\"pick_start\"] = times[\"prepick\"] + 2.0\n",
    "    times[\"pick_end\"] = times[\"pick_start\"] + 2.0\n",
    "    X_WG[\"pick_start\"] = X_WG[\"pick\"]\n",
    "    X_WG[\"pick_end\"] = X_WG[\"pick\"]\n",
    "    times[\"postpick\"] = times[\"pick_end\"] + 2.0\n",
    "    X_WG[\"postpick\"] = X_WG[\"prepick\"]\n",
    "    time_to_from_clearance = 10.0 * np.linalg.norm(X_GprepickGclearance.translation())\n",
    "    times[\"clearance\"] = times[\"postpick\"] + time_to_from_clearance\n",
    "    times[\"preplace\"] = times[\"clearance\"] + time_to_from_clearance\n",
    "    times[\"place_start\"] = times[\"preplace\"] + 2.0\n",
    "    times[\"place_end\"] = times[\"place_start\"] + 2.0\n",
    "    X_WG[\"place_start\"] = X_WG[\"place\"]\n",
    "    X_WG[\"place_end\"] = X_WG[\"place\"]\n",
    "    times[\"postplace\"] = times[\"place_end\"] + 2.0\n",
    "    X_WG[\"postplace\"] = X_WG[\"preplace\"]\n",
    "\n",
    "    return X_WG, times\n",
    "\n",
    "\n",
    "X_G = {\n",
    "    \"initial\": RigidTransform(\n",
    "        RotationMatrix.MakeXRotation(-np.pi / 2.0), [0, -0.25, 0.25]\n",
    "    )\n",
    "}\n",
    "X_O = {\n",
    "    \"initial\": RigidTransform(\n",
    "        RotationMatrix.MakeZRotation(np.pi / 2.0), [-0.2, -0.75, 0.025]\n",
    "    ),\n",
    "    \"goal\": RigidTransform(RotationMatrix.MakeZRotation(np.pi), [0.75, 0, 0.025]),\n",
    "}\n",
    "X_G, times = MakeGripperFrames(X_G, X_O)\n",
    "print(\n",
    "    f\"Sanity check: The entire maneuver will take {times['postplace']} seconds to execute.\"\n",
    ")"
   ]
  },
  {
   "cell_type": "markdown",
   "id": "e21b7f78",
   "metadata": {
    "colab_type": "text",
    "id": "JnmfEw0zgzsn"
   },
   "source": [
    "Here's a simple visualization of those frames.  Use the controls menu in meshcat to view the different objects on the different \"paths\" to understand which objects belong to which frames.  Everything look reasonable?\n",
    "\n",
    "Try changing the initial and final pose of the gripper / object."
   ]
  },
  {
   "cell_type": "code",
   "execution_count": 18,
   "id": "562b78f3",
   "metadata": {
    "colab": {},
    "colab_type": "code",
    "id": "oXh50Cf1hU6N"
   },
   "outputs": [],
   "source": [
    "def visualize_gripper_frames(X_G, X_O):\n",
    "    builder = DiagramBuilder()\n",
    "\n",
    "    plant, scene_graph = AddMultibodyPlantSceneGraph(builder, time_step=0.0)\n",
    "    parser = Parser(plant, scene_graph)\n",
    "    parser.SetAutoRenaming(True)\n",
    "    for key, pose in X_G.items():\n",
    "        g = parser.AddModelsFromUrl(\n",
    "            \"package://drake_models/wsg_50_description/sdf/schunk_wsg_50_no_tip.sdf\"\n",
    "        )[0]\n",
    "        plant.WeldFrames(plant.world_frame(), plant.GetFrameByName(\"body\", g), pose)\n",
    "    for key, pose in X_O.items():\n",
    "        o = parser.AddModelsFromUrl(\n",
    "            \"package://drake_models/manipulation_station/061_foam_brick.sdf\"\n",
    "        )[0]\n",
    "        plant.WeldFrames(\n",
    "            plant.world_frame(), plant.GetFrameByName(\"base_link\", o), pose\n",
    "        )\n",
    "\n",
    "    plant.Finalize()\n",
    "\n",
    "    meshcat.Delete()\n",
    "    MeshcatVisualizer.AddToBuilder(builder, scene_graph, meshcat)\n",
    "\n",
    "    diagram = builder.Build()\n",
    "    context = diagram.CreateDefaultContext()\n",
    "    diagram.ForcedPublish(context)\n",
    "\n",
    "\n",
    "visualize_gripper_frames(X_G, X_O)"
   ]
  },
  {
   "cell_type": "markdown",
   "id": "0503ba59",
   "metadata": {
    "colab_type": "text",
    "id": "HmcG3b_xSeQR"
   },
   "source": [
    "# Pick and place trajectories\n",
    "\n",
    "We've defined the keyframes, but now we will fill in timing details (what should be happening at each instant).\n",
    "\n",
    "Interpolating between the positions is quite simple; we can encode these details as a `PiecewisePolynomial` trajectory in $\\Re^3$ over time.  Interpolating over orientations requires more care.  We'll use `PiecewiseQuaternionSlerp` to do the job.\n",
    "\n",
    "See the documentation of [PiecewisePose](https://drake.mit.edu/doxygen_cxx/classdrake_1_1trajectories_1_1_piecewise_pose.html#ae2f8a49b642aecb5c19ef3625be5e61d) for more details."
   ]
  },
  {
   "cell_type": "code",
   "execution_count": 19,
   "id": "fefa7ad5",
   "metadata": {
    "colab": {},
    "colab_type": "code",
    "id": "oiwljuszWh_O"
   },
   "outputs": [],
   "source": [
    "def MakeGripperPoseTrajectory(X_G, times):\n",
    "    \"\"\"\n",
    "    Constructs a gripper position trajectory from the plan \"sketch\".\n",
    "    \"\"\"\n",
    "\n",
    "    sample_times = []\n",
    "    poses = []\n",
    "    for name in [\n",
    "        \"initial\",\n",
    "        \"prepick\",\n",
    "        \"pick_start\",\n",
    "        \"pick_end\",\n",
    "        \"postpick\",\n",
    "        \"clearance\",\n",
    "        \"preplace\",\n",
    "        \"place_start\",\n",
    "        \"place_end\",\n",
    "        \"postplace\",\n",
    "    ]:\n",
    "        sample_times.append(times[name])\n",
    "        poses.append(X_G[name])\n",
    "\n",
    "    return PiecewisePose.MakeLinear(sample_times, poses)\n",
    "\n",
    "\n",
    "traj_X_G = MakeGripperPoseTrajectory(X_G, times)"
   ]
  },
  {
   "cell_type": "markdown",
   "id": "8b15c741",
   "metadata": {
    "colab_type": "text",
    "id": "2PnYrnSmEMYC"
   },
   "source": [
    "Now let's plot our trajectories."
   ]
  },
  {
   "cell_type": "code",
   "execution_count": 20,
   "id": "88051671",
   "metadata": {
    "colab": {},
    "colab_type": "code",
    "id": "Ppd-5B3V3cNC"
   },
   "outputs": [
    {
     "name": "stderr",
     "output_type": "stream",
     "text": [
      "/home/shreyas/virtualenvs/drake_env/lib/python3.12/site-packages/mpld3/mplexporter/utils.py:300: MatplotlibDeprecationWarning: The converter attribute was deprecated in Matplotlib 3.10 and will be removed in 3.12. Use get_converter and set_converter methods instead.\n",
      "  isinstance(axis.converter, matplotlib.dates._SwitchableDateConverter)\n",
      "/home/shreyas/virtualenvs/drake_env/lib/python3.12/site-packages/mpld3/mplexporter/utils.py:303: MatplotlibDeprecationWarning: The converter attribute was deprecated in Matplotlib 3.10 and will be removed in 3.12. Use get_converter and set_converter methods instead.\n",
      "  isinstance(axis.converter, matplotlib.dates.DateConverter)\n",
      "/home/shreyas/virtualenvs/drake_env/lib/python3.12/site-packages/mpld3/mplexporter/utils.py:306: MatplotlibDeprecationWarning: The converter attribute was deprecated in Matplotlib 3.10 and will be removed in 3.12. Use get_converter and set_converter methods instead.\n",
      "  isinstance(axis.converter, matplotlib.dates.ConciseDateConverter)\n",
      "/home/shreyas/virtualenvs/drake_env/lib/python3.12/site-packages/mpld3/mplexporter/utils.py:300: MatplotlibDeprecationWarning: The converter attribute was deprecated in Matplotlib 3.10 and will be removed in 3.12. Use get_converter and set_converter methods instead.\n",
      "  isinstance(axis.converter, matplotlib.dates._SwitchableDateConverter)\n",
      "/home/shreyas/virtualenvs/drake_env/lib/python3.12/site-packages/mpld3/mplexporter/utils.py:303: MatplotlibDeprecationWarning: The converter attribute was deprecated in Matplotlib 3.10 and will be removed in 3.12. Use get_converter and set_converter methods instead.\n",
      "  isinstance(axis.converter, matplotlib.dates.DateConverter)\n",
      "/home/shreyas/virtualenvs/drake_env/lib/python3.12/site-packages/mpld3/mplexporter/utils.py:306: MatplotlibDeprecationWarning: The converter attribute was deprecated in Matplotlib 3.10 and will be removed in 3.12. Use get_converter and set_converter methods instead.\n",
      "  isinstance(axis.converter, matplotlib.dates.ConciseDateConverter)\n"
     ]
    },
    {
     "data": {
      "text/html": [
       "\n",
       "\n",
       "<style>\n",
       "\n",
       "</style>\n",
       "\n",
       "<div id=\"fig_el1347241311571714823202162690808\"></div>\n",
       "<script>\n",
       "function mpld3_load_lib(url, callback){\n",
       "  var s = document.createElement('script');\n",
       "  s.src = url;\n",
       "  s.async = true;\n",
       "  s.onreadystatechange = s.onload = callback;\n",
       "  s.onerror = function(){console.warn(\"failed to load library \" + url);};\n",
       "  document.getElementsByTagName(\"head\")[0].appendChild(s);\n",
       "}\n",
       "\n",
       "if(typeof(mpld3) !== \"undefined\" && mpld3._mpld3IsLoaded){\n",
       "   // already loaded: just create the figure\n",
       "   !function(mpld3){\n",
       "       \n",
       "       mpld3.draw_figure(\"fig_el1347241311571714823202162690808\", {\"width\": 640.0, \"height\": 480.0, \"axes\": [{\"bbox\": [0.125, 0.10999999999999999, 0.775, 0.77], \"xlim\": [-1.5450110374659127, 32.44523178678417], \"ylim\": [-0.825, 0.825], \"xdomain\": [-1.5450110374659127, 32.44523178678417], \"ydomain\": [-0.825, 0.825], \"xscale\": \"linear\", \"yscale\": \"linear\", \"axes\": [{\"position\": \"bottom\", \"nticks\": 9, \"tickvalues\": null, \"tickformat_formatter\": \"\", \"tickformat\": null, \"scale\": \"linear\", \"fontsize\": 10.0, \"grid\": {\"gridOn\": false}, \"visible\": true}, {\"position\": \"left\", \"nticks\": 11, \"tickvalues\": null, \"tickformat_formatter\": \"\", \"tickformat\": null, \"scale\": \"linear\", \"fontsize\": 10.0, \"grid\": {\"gridOn\": false}, \"visible\": true}], \"axesbg\": \"#FFFFFF\", \"axesbgalpha\": null, \"zoomable\": true, \"id\": \"el134724131157171473728\", \"lines\": [{\"data\": \"data01\", \"xindex\": 0, \"yindex\": 1, \"coordinates\": \"data\", \"id\": \"el134724131157171351152\", \"color\": \"#1F77B4\", \"linewidth\": 1.5, \"dasharray\": \"none\", \"alpha\": 1, \"zorder\": 2, \"drawstyle\": \"default\"}, {\"data\": \"data01\", \"xindex\": 0, \"yindex\": 2, \"coordinates\": \"data\", \"id\": \"el134724131157171350576\", \"color\": \"#FF7F0E\", \"linewidth\": 1.5, \"dasharray\": \"none\", \"alpha\": 1, \"zorder\": 2, \"drawstyle\": \"default\"}, {\"data\": \"data01\", \"xindex\": 0, \"yindex\": 3, \"coordinates\": \"data\", \"id\": \"el134724131157171344144\", \"color\": \"#2CA02C\", \"linewidth\": 1.5, \"dasharray\": \"none\", \"alpha\": 1, \"zorder\": 2, \"drawstyle\": \"default\"}, {\"data\": \"data02\", \"xindex\": 0, \"yindex\": 1, \"coordinates\": \"axes\", \"id\": \"el134724131157171339728\", \"color\": \"#1F77B4\", \"linewidth\": 1.5, \"dasharray\": \"none\", \"alpha\": 1, \"zorder\": 1000002.0, \"drawstyle\": \"default\"}, {\"data\": \"data02\", \"xindex\": 0, \"yindex\": 2, \"coordinates\": \"axes\", \"id\": \"el134724131157171518400\", \"color\": \"#FF7F0E\", \"linewidth\": 1.5, \"dasharray\": \"none\", \"alpha\": 1, \"zorder\": 1000002.0, \"drawstyle\": \"default\"}, {\"data\": \"data02\", \"xindex\": 0, \"yindex\": 3, \"coordinates\": \"axes\", \"id\": \"el134724131157171515808\", \"color\": \"#2CA02C\", \"linewidth\": 1.5, \"dasharray\": \"none\", \"alpha\": 1, \"zorder\": 1000002.0, \"drawstyle\": \"default\"}], \"paths\": [{\"data\": \"data03\", \"xindex\": 0, \"yindex\": 1, \"coordinates\": \"axes\", \"pathcodes\": [\"M\", \"L\", \"S\", \"L\", \"S\", \"L\", \"S\", \"L\", \"S\", \"Z\"], \"id\": \"el134724131157171342896\", \"dasharray\": \"none\", \"alpha\": 0.8, \"facecolor\": \"rgba(255, 255, 255, 0.8)\", \"edgecolor\": \"rgba(204, 204, 204, 0.8)\", \"edgewidth\": 1.0, \"zorder\": 1000000.0}], \"markers\": [], \"texts\": [{\"text\": \"p_G\", \"position\": [0.5, 1.0225468975468974], \"coordinates\": \"axes\", \"h_anchor\": \"middle\", \"v_baseline\": \"auto\", \"rotation\": -0.0, \"fontsize\": 12.0, \"color\": \"#000000\", \"alpha\": 1, \"zorder\": 3, \"id\": \"el134724131157171352784\"}, {\"text\": \"x\", \"position\": [0.10360663082437274, 0.9364177489177489], \"coordinates\": \"axes\", \"h_anchor\": \"start\", \"v_baseline\": \"auto\", \"rotation\": -0.0, \"fontsize\": 10.0, \"color\": \"#000000\", \"alpha\": 1, \"zorder\": 1000003.0, \"id\": \"el134724131157171355424\"}, {\"text\": \"y\", \"position\": [0.10360663082437274, 0.8797498797498798], \"coordinates\": \"axes\", \"h_anchor\": \"start\", \"v_baseline\": \"auto\", \"rotation\": -0.0, \"fontsize\": 10.0, \"color\": \"#000000\", \"alpha\": 1, \"zorder\": 1000003.0, \"id\": \"el134724131157171518784\"}, {\"text\": \"z\", \"position\": [0.10360663082437274, 0.8230820105820105], \"coordinates\": \"axes\", \"h_anchor\": \"start\", \"v_baseline\": \"auto\", \"rotation\": -0.0, \"fontsize\": 10.0, \"color\": \"#000000\", \"alpha\": 1, \"zorder\": 1000003.0, \"id\": \"el134724131157171505968\"}], \"collections\": [], \"images\": [], \"sharex\": [], \"sharey\": []}], \"data\": {\"data01\": [[0.0, 0.0, -0.25, 0.25], [5.390964663211957, -0.2, -0.75, 0.22499999999999998], [7.390964663211957, -0.2, -0.75, 0.145], [9.390964663211957, -0.2, -0.75, 0.145], [11.390964663211957, -0.2, -0.75, 0.22499999999999998], [18.145592706265106, 0.27499999999999997, -0.375, 0.5249999999999999], [24.900220749318255, 0.75, -7.498798913309287e-34, 0.22499999999999998], [26.900220749318255, 0.75, -4.499279347985572e-34, 0.145], [28.900220749318255, 0.75, -4.499279347985572e-34, 0.145], [30.900220749318255, 0.75, -7.498798913309287e-34, 0.22499999999999998]], \"data02\": [[0.025201612903225812, 0.9495701058201058, 0.8929022366522368, 0.8362343674843674], [0.05320340501792115, 0.9495701058201058, 0.8929022366522368, 0.8362343674843674], [0.0812051971326165, 0.9495701058201058, 0.8929022366522368, 0.8362343674843674]], \"data03\": [[0.01960125448028671, 0.7999338624338624], [0.12584005376344085, 0.7999338624338624], [0.1314404121863799, 0.7999338624338624], [0.1314404121863799, 0.8074494949494949], [0.1314404121863799, 0.9736952861952862], [0.1314404121863799, 0.9812109187109187], [0.12584005376344085, 0.9812109187109187], [0.01960125448028671, 0.9812109187109187], [0.014000896057347667, 0.9812109187109187], [0.014000896057347667, 0.9736952861952862], [0.014000896057347667, 0.8074494949494949], [0.014000896057347667, 0.7999338624338624], [0.01960125448028671, 0.7999338624338624]]}, \"id\": \"el134724131157171482320\", \"plugins\": [{\"type\": \"reset\"}, {\"type\": \"zoom\", \"button\": true, \"enabled\": false}, {\"type\": \"boxzoom\", \"button\": true, \"enabled\": false}]});\n",
       "   }(mpld3);\n",
       "}else if(typeof define === \"function\" && define.amd){\n",
       "   // require.js is available: use it to load d3/mpld3\n",
       "   require.config({paths: {d3: \"https://d3js.org/d3.v5\"}});\n",
       "   require([\"d3\"], function(d3){\n",
       "      window.d3 = d3;\n",
       "      mpld3_load_lib(\"https://mpld3.github.io/js/mpld3.v0.5.10.js\", function(){\n",
       "         \n",
       "         mpld3.draw_figure(\"fig_el1347241311571714823202162690808\", {\"width\": 640.0, \"height\": 480.0, \"axes\": [{\"bbox\": [0.125, 0.10999999999999999, 0.775, 0.77], \"xlim\": [-1.5450110374659127, 32.44523178678417], \"ylim\": [-0.825, 0.825], \"xdomain\": [-1.5450110374659127, 32.44523178678417], \"ydomain\": [-0.825, 0.825], \"xscale\": \"linear\", \"yscale\": \"linear\", \"axes\": [{\"position\": \"bottom\", \"nticks\": 9, \"tickvalues\": null, \"tickformat_formatter\": \"\", \"tickformat\": null, \"scale\": \"linear\", \"fontsize\": 10.0, \"grid\": {\"gridOn\": false}, \"visible\": true}, {\"position\": \"left\", \"nticks\": 11, \"tickvalues\": null, \"tickformat_formatter\": \"\", \"tickformat\": null, \"scale\": \"linear\", \"fontsize\": 10.0, \"grid\": {\"gridOn\": false}, \"visible\": true}], \"axesbg\": \"#FFFFFF\", \"axesbgalpha\": null, \"zoomable\": true, \"id\": \"el134724131157171473728\", \"lines\": [{\"data\": \"data01\", \"xindex\": 0, \"yindex\": 1, \"coordinates\": \"data\", \"id\": \"el134724131157171351152\", \"color\": \"#1F77B4\", \"linewidth\": 1.5, \"dasharray\": \"none\", \"alpha\": 1, \"zorder\": 2, \"drawstyle\": \"default\"}, {\"data\": \"data01\", \"xindex\": 0, \"yindex\": 2, \"coordinates\": \"data\", \"id\": \"el134724131157171350576\", \"color\": \"#FF7F0E\", \"linewidth\": 1.5, \"dasharray\": \"none\", \"alpha\": 1, \"zorder\": 2, \"drawstyle\": \"default\"}, {\"data\": \"data01\", \"xindex\": 0, \"yindex\": 3, \"coordinates\": \"data\", \"id\": \"el134724131157171344144\", \"color\": \"#2CA02C\", \"linewidth\": 1.5, \"dasharray\": \"none\", \"alpha\": 1, \"zorder\": 2, \"drawstyle\": \"default\"}, {\"data\": \"data02\", \"xindex\": 0, \"yindex\": 1, \"coordinates\": \"axes\", \"id\": \"el134724131157171339728\", \"color\": \"#1F77B4\", \"linewidth\": 1.5, \"dasharray\": \"none\", \"alpha\": 1, \"zorder\": 1000002.0, \"drawstyle\": \"default\"}, {\"data\": \"data02\", \"xindex\": 0, \"yindex\": 2, \"coordinates\": \"axes\", \"id\": \"el134724131157171518400\", \"color\": \"#FF7F0E\", \"linewidth\": 1.5, \"dasharray\": \"none\", \"alpha\": 1, \"zorder\": 1000002.0, \"drawstyle\": \"default\"}, {\"data\": \"data02\", \"xindex\": 0, \"yindex\": 3, \"coordinates\": \"axes\", \"id\": \"el134724131157171515808\", \"color\": \"#2CA02C\", \"linewidth\": 1.5, \"dasharray\": \"none\", \"alpha\": 1, \"zorder\": 1000002.0, \"drawstyle\": \"default\"}], \"paths\": [{\"data\": \"data03\", \"xindex\": 0, \"yindex\": 1, \"coordinates\": \"axes\", \"pathcodes\": [\"M\", \"L\", \"S\", \"L\", \"S\", \"L\", \"S\", \"L\", \"S\", \"Z\"], \"id\": \"el134724131157171342896\", \"dasharray\": \"none\", \"alpha\": 0.8, \"facecolor\": \"rgba(255, 255, 255, 0.8)\", \"edgecolor\": \"rgba(204, 204, 204, 0.8)\", \"edgewidth\": 1.0, \"zorder\": 1000000.0}], \"markers\": [], \"texts\": [{\"text\": \"p_G\", \"position\": [0.5, 1.0225468975468974], \"coordinates\": \"axes\", \"h_anchor\": \"middle\", \"v_baseline\": \"auto\", \"rotation\": -0.0, \"fontsize\": 12.0, \"color\": \"#000000\", \"alpha\": 1, \"zorder\": 3, \"id\": \"el134724131157171352784\"}, {\"text\": \"x\", \"position\": [0.10360663082437274, 0.9364177489177489], \"coordinates\": \"axes\", \"h_anchor\": \"start\", \"v_baseline\": \"auto\", \"rotation\": -0.0, \"fontsize\": 10.0, \"color\": \"#000000\", \"alpha\": 1, \"zorder\": 1000003.0, \"id\": \"el134724131157171355424\"}, {\"text\": \"y\", \"position\": [0.10360663082437274, 0.8797498797498798], \"coordinates\": \"axes\", \"h_anchor\": \"start\", \"v_baseline\": \"auto\", \"rotation\": -0.0, \"fontsize\": 10.0, \"color\": \"#000000\", \"alpha\": 1, \"zorder\": 1000003.0, \"id\": \"el134724131157171518784\"}, {\"text\": \"z\", \"position\": [0.10360663082437274, 0.8230820105820105], \"coordinates\": \"axes\", \"h_anchor\": \"start\", \"v_baseline\": \"auto\", \"rotation\": -0.0, \"fontsize\": 10.0, \"color\": \"#000000\", \"alpha\": 1, \"zorder\": 1000003.0, \"id\": \"el134724131157171505968\"}], \"collections\": [], \"images\": [], \"sharex\": [], \"sharey\": []}], \"data\": {\"data01\": [[0.0, 0.0, -0.25, 0.25], [5.390964663211957, -0.2, -0.75, 0.22499999999999998], [7.390964663211957, -0.2, -0.75, 0.145], [9.390964663211957, -0.2, -0.75, 0.145], [11.390964663211957, -0.2, -0.75, 0.22499999999999998], [18.145592706265106, 0.27499999999999997, -0.375, 0.5249999999999999], [24.900220749318255, 0.75, -7.498798913309287e-34, 0.22499999999999998], [26.900220749318255, 0.75, -4.499279347985572e-34, 0.145], [28.900220749318255, 0.75, -4.499279347985572e-34, 0.145], [30.900220749318255, 0.75, -7.498798913309287e-34, 0.22499999999999998]], \"data02\": [[0.025201612903225812, 0.9495701058201058, 0.8929022366522368, 0.8362343674843674], [0.05320340501792115, 0.9495701058201058, 0.8929022366522368, 0.8362343674843674], [0.0812051971326165, 0.9495701058201058, 0.8929022366522368, 0.8362343674843674]], \"data03\": [[0.01960125448028671, 0.7999338624338624], [0.12584005376344085, 0.7999338624338624], [0.1314404121863799, 0.7999338624338624], [0.1314404121863799, 0.8074494949494949], [0.1314404121863799, 0.9736952861952862], [0.1314404121863799, 0.9812109187109187], [0.12584005376344085, 0.9812109187109187], [0.01960125448028671, 0.9812109187109187], [0.014000896057347667, 0.9812109187109187], [0.014000896057347667, 0.9736952861952862], [0.014000896057347667, 0.8074494949494949], [0.014000896057347667, 0.7999338624338624], [0.01960125448028671, 0.7999338624338624]]}, \"id\": \"el134724131157171482320\", \"plugins\": [{\"type\": \"reset\"}, {\"type\": \"zoom\", \"button\": true, \"enabled\": false}, {\"type\": \"boxzoom\", \"button\": true, \"enabled\": false}]});\n",
       "      });\n",
       "    });\n",
       "}else{\n",
       "    // require.js not available: dynamically load d3 & mpld3\n",
       "    mpld3_load_lib(\"https://d3js.org/d3.v5.js\", function(){\n",
       "         mpld3_load_lib(\"https://mpld3.github.io/js/mpld3.v0.5.10.js\", function(){\n",
       "                 \n",
       "                 mpld3.draw_figure(\"fig_el1347241311571714823202162690808\", {\"width\": 640.0, \"height\": 480.0, \"axes\": [{\"bbox\": [0.125, 0.10999999999999999, 0.775, 0.77], \"xlim\": [-1.5450110374659127, 32.44523178678417], \"ylim\": [-0.825, 0.825], \"xdomain\": [-1.5450110374659127, 32.44523178678417], \"ydomain\": [-0.825, 0.825], \"xscale\": \"linear\", \"yscale\": \"linear\", \"axes\": [{\"position\": \"bottom\", \"nticks\": 9, \"tickvalues\": null, \"tickformat_formatter\": \"\", \"tickformat\": null, \"scale\": \"linear\", \"fontsize\": 10.0, \"grid\": {\"gridOn\": false}, \"visible\": true}, {\"position\": \"left\", \"nticks\": 11, \"tickvalues\": null, \"tickformat_formatter\": \"\", \"tickformat\": null, \"scale\": \"linear\", \"fontsize\": 10.0, \"grid\": {\"gridOn\": false}, \"visible\": true}], \"axesbg\": \"#FFFFFF\", \"axesbgalpha\": null, \"zoomable\": true, \"id\": \"el134724131157171473728\", \"lines\": [{\"data\": \"data01\", \"xindex\": 0, \"yindex\": 1, \"coordinates\": \"data\", \"id\": \"el134724131157171351152\", \"color\": \"#1F77B4\", \"linewidth\": 1.5, \"dasharray\": \"none\", \"alpha\": 1, \"zorder\": 2, \"drawstyle\": \"default\"}, {\"data\": \"data01\", \"xindex\": 0, \"yindex\": 2, \"coordinates\": \"data\", \"id\": \"el134724131157171350576\", \"color\": \"#FF7F0E\", \"linewidth\": 1.5, \"dasharray\": \"none\", \"alpha\": 1, \"zorder\": 2, \"drawstyle\": \"default\"}, {\"data\": \"data01\", \"xindex\": 0, \"yindex\": 3, \"coordinates\": \"data\", \"id\": \"el134724131157171344144\", \"color\": \"#2CA02C\", \"linewidth\": 1.5, \"dasharray\": \"none\", \"alpha\": 1, \"zorder\": 2, \"drawstyle\": \"default\"}, {\"data\": \"data02\", \"xindex\": 0, \"yindex\": 1, \"coordinates\": \"axes\", \"id\": \"el134724131157171339728\", \"color\": \"#1F77B4\", \"linewidth\": 1.5, \"dasharray\": \"none\", \"alpha\": 1, \"zorder\": 1000002.0, \"drawstyle\": \"default\"}, {\"data\": \"data02\", \"xindex\": 0, \"yindex\": 2, \"coordinates\": \"axes\", \"id\": \"el134724131157171518400\", \"color\": \"#FF7F0E\", \"linewidth\": 1.5, \"dasharray\": \"none\", \"alpha\": 1, \"zorder\": 1000002.0, \"drawstyle\": \"default\"}, {\"data\": \"data02\", \"xindex\": 0, \"yindex\": 3, \"coordinates\": \"axes\", \"id\": \"el134724131157171515808\", \"color\": \"#2CA02C\", \"linewidth\": 1.5, \"dasharray\": \"none\", \"alpha\": 1, \"zorder\": 1000002.0, \"drawstyle\": \"default\"}], \"paths\": [{\"data\": \"data03\", \"xindex\": 0, \"yindex\": 1, \"coordinates\": \"axes\", \"pathcodes\": [\"M\", \"L\", \"S\", \"L\", \"S\", \"L\", \"S\", \"L\", \"S\", \"Z\"], \"id\": \"el134724131157171342896\", \"dasharray\": \"none\", \"alpha\": 0.8, \"facecolor\": \"rgba(255, 255, 255, 0.8)\", \"edgecolor\": \"rgba(204, 204, 204, 0.8)\", \"edgewidth\": 1.0, \"zorder\": 1000000.0}], \"markers\": [], \"texts\": [{\"text\": \"p_G\", \"position\": [0.5, 1.0225468975468974], \"coordinates\": \"axes\", \"h_anchor\": \"middle\", \"v_baseline\": \"auto\", \"rotation\": -0.0, \"fontsize\": 12.0, \"color\": \"#000000\", \"alpha\": 1, \"zorder\": 3, \"id\": \"el134724131157171352784\"}, {\"text\": \"x\", \"position\": [0.10360663082437274, 0.9364177489177489], \"coordinates\": \"axes\", \"h_anchor\": \"start\", \"v_baseline\": \"auto\", \"rotation\": -0.0, \"fontsize\": 10.0, \"color\": \"#000000\", \"alpha\": 1, \"zorder\": 1000003.0, \"id\": \"el134724131157171355424\"}, {\"text\": \"y\", \"position\": [0.10360663082437274, 0.8797498797498798], \"coordinates\": \"axes\", \"h_anchor\": \"start\", \"v_baseline\": \"auto\", \"rotation\": -0.0, \"fontsize\": 10.0, \"color\": \"#000000\", \"alpha\": 1, \"zorder\": 1000003.0, \"id\": \"el134724131157171518784\"}, {\"text\": \"z\", \"position\": [0.10360663082437274, 0.8230820105820105], \"coordinates\": \"axes\", \"h_anchor\": \"start\", \"v_baseline\": \"auto\", \"rotation\": -0.0, \"fontsize\": 10.0, \"color\": \"#000000\", \"alpha\": 1, \"zorder\": 1000003.0, \"id\": \"el134724131157171505968\"}], \"collections\": [], \"images\": [], \"sharex\": [], \"sharey\": []}], \"data\": {\"data01\": [[0.0, 0.0, -0.25, 0.25], [5.390964663211957, -0.2, -0.75, 0.22499999999999998], [7.390964663211957, -0.2, -0.75, 0.145], [9.390964663211957, -0.2, -0.75, 0.145], [11.390964663211957, -0.2, -0.75, 0.22499999999999998], [18.145592706265106, 0.27499999999999997, -0.375, 0.5249999999999999], [24.900220749318255, 0.75, -7.498798913309287e-34, 0.22499999999999998], [26.900220749318255, 0.75, -4.499279347985572e-34, 0.145], [28.900220749318255, 0.75, -4.499279347985572e-34, 0.145], [30.900220749318255, 0.75, -7.498798913309287e-34, 0.22499999999999998]], \"data02\": [[0.025201612903225812, 0.9495701058201058, 0.8929022366522368, 0.8362343674843674], [0.05320340501792115, 0.9495701058201058, 0.8929022366522368, 0.8362343674843674], [0.0812051971326165, 0.9495701058201058, 0.8929022366522368, 0.8362343674843674]], \"data03\": [[0.01960125448028671, 0.7999338624338624], [0.12584005376344085, 0.7999338624338624], [0.1314404121863799, 0.7999338624338624], [0.1314404121863799, 0.8074494949494949], [0.1314404121863799, 0.9736952861952862], [0.1314404121863799, 0.9812109187109187], [0.12584005376344085, 0.9812109187109187], [0.01960125448028671, 0.9812109187109187], [0.014000896057347667, 0.9812109187109187], [0.014000896057347667, 0.9736952861952862], [0.014000896057347667, 0.8074494949494949], [0.014000896057347667, 0.7999338624338624], [0.01960125448028671, 0.7999338624338624]]}, \"id\": \"el134724131157171482320\", \"plugins\": [{\"type\": \"reset\"}, {\"type\": \"zoom\", \"button\": true, \"enabled\": false}, {\"type\": \"boxzoom\", \"button\": true, \"enabled\": false}]});\n",
       "            })\n",
       "         });\n",
       "}\n",
       "</script>"
      ],
      "text/plain": [
       "<IPython.core.display.HTML object>"
      ]
     },
     "execution_count": 20,
     "metadata": {},
     "output_type": "execute_result"
    }
   ],
   "source": [
    "traj_p_G = traj_X_G.get_position_trajectory()\n",
    "\n",
    "p_G = traj_p_G.vector_values(traj_p_G.get_segment_times())\n",
    "plt.plot(traj_p_G.get_segment_times(), p_G.T)\n",
    "plt.legend([\"x\", \"y\", \"z\"])\n",
    "plt.title(\"p_G\")\n",
    "mpld3.display()"
   ]
  },
  {
   "cell_type": "markdown",
   "id": "96e1d420",
   "metadata": {
    "colab_type": "text",
    "id": "yIVvA6ZoFLvt"
   },
   "source": [
    "We can also plot the trajectory in 3D directly in Meshcat."
   ]
  },
  {
   "cell_type": "code",
   "execution_count": 21,
   "id": "a3de782f",
   "metadata": {
    "colab": {},
    "colab_type": "code",
    "id": "2vgn7mxcDvlK"
   },
   "outputs": [],
   "source": [
    "meshcat.ResetRenderMode()\n",
    "meshcat.SetLine(\"p_G\", p_G, 2.0, rgba=Rgba(1, 0.65, 0))"
   ]
  },
  {
   "cell_type": "markdown",
   "id": "5650bfc5",
   "metadata": {
    "colab_type": "text",
    "id": "zNNRr4Fq7frG"
   },
   "source": [
    "We can plot the orientation trajectory, too.  Here are the components of the quaternion over time."
   ]
  },
  {
   "cell_type": "code",
   "execution_count": 22,
   "id": "03a803a7",
   "metadata": {
    "colab": {},
    "colab_type": "code",
    "id": "4aKEnaLJ50pF"
   },
   "outputs": [
    {
     "name": "stderr",
     "output_type": "stream",
     "text": [
      "/home/shreyas/virtualenvs/drake_env/lib/python3.12/site-packages/mpld3/mplexporter/utils.py:300: MatplotlibDeprecationWarning: The converter attribute was deprecated in Matplotlib 3.10 and will be removed in 3.12. Use get_converter and set_converter methods instead.\n",
      "  isinstance(axis.converter, matplotlib.dates._SwitchableDateConverter)\n",
      "/home/shreyas/virtualenvs/drake_env/lib/python3.12/site-packages/mpld3/mplexporter/utils.py:303: MatplotlibDeprecationWarning: The converter attribute was deprecated in Matplotlib 3.10 and will be removed in 3.12. Use get_converter and set_converter methods instead.\n",
      "  isinstance(axis.converter, matplotlib.dates.DateConverter)\n",
      "/home/shreyas/virtualenvs/drake_env/lib/python3.12/site-packages/mpld3/mplexporter/utils.py:306: MatplotlibDeprecationWarning: The converter attribute was deprecated in Matplotlib 3.10 and will be removed in 3.12. Use get_converter and set_converter methods instead.\n",
      "  isinstance(axis.converter, matplotlib.dates.ConciseDateConverter)\n",
      "/home/shreyas/virtualenvs/drake_env/lib/python3.12/site-packages/mpld3/mplexporter/utils.py:300: MatplotlibDeprecationWarning: The converter attribute was deprecated in Matplotlib 3.10 and will be removed in 3.12. Use get_converter and set_converter methods instead.\n",
      "  isinstance(axis.converter, matplotlib.dates._SwitchableDateConverter)\n",
      "/home/shreyas/virtualenvs/drake_env/lib/python3.12/site-packages/mpld3/mplexporter/utils.py:303: MatplotlibDeprecationWarning: The converter attribute was deprecated in Matplotlib 3.10 and will be removed in 3.12. Use get_converter and set_converter methods instead.\n",
      "  isinstance(axis.converter, matplotlib.dates.DateConverter)\n",
      "/home/shreyas/virtualenvs/drake_env/lib/python3.12/site-packages/mpld3/mplexporter/utils.py:306: MatplotlibDeprecationWarning: The converter attribute was deprecated in Matplotlib 3.10 and will be removed in 3.12. Use get_converter and set_converter methods instead.\n",
      "  isinstance(axis.converter, matplotlib.dates.ConciseDateConverter)\n"
     ]
    },
    {
     "data": {
      "text/html": [
       "\n",
       "\n",
       "<style>\n",
       "\n",
       "</style>\n",
       "\n",
       "<div id=\"fig_el1347241311571707712805206716562\"></div>\n",
       "<script>\n",
       "function mpld3_load_lib(url, callback){\n",
       "  var s = document.createElement('script');\n",
       "  s.src = url;\n",
       "  s.async = true;\n",
       "  s.onreadystatechange = s.onload = callback;\n",
       "  s.onerror = function(){console.warn(\"failed to load library \" + url);};\n",
       "  document.getElementsByTagName(\"head\")[0].appendChild(s);\n",
       "}\n",
       "\n",
       "if(typeof(mpld3) !== \"undefined\" && mpld3._mpld3IsLoaded){\n",
       "   // already loaded: just create the figure\n",
       "   !function(mpld3){\n",
       "       \n",
       "       mpld3.draw_figure(\"fig_el1347241311571707712805206716562\", {\"width\": 640.0, \"height\": 480.0, \"axes\": [{\"bbox\": [0.125, 0.10999999999999999, 0.775, 0.77], \"xlim\": [-1.5450110374659127, 32.44523178678417], \"ylim\": [-0.7778174593052023, 0.7778174593052023], \"xdomain\": [-1.5450110374659127, 32.44523178678417], \"ydomain\": [-0.7778174593052023, 0.7778174593052023], \"xscale\": \"linear\", \"yscale\": \"linear\", \"axes\": [{\"position\": \"bottom\", \"nticks\": 9, \"tickvalues\": null, \"tickformat_formatter\": \"\", \"tickformat\": null, \"scale\": \"linear\", \"fontsize\": 10.0, \"grid\": {\"gridOn\": false}, \"visible\": true}, {\"position\": \"left\", \"nticks\": 9, \"tickvalues\": null, \"tickformat_formatter\": \"\", \"tickformat\": null, \"scale\": \"linear\", \"fontsize\": 10.0, \"grid\": {\"gridOn\": false}, \"visible\": true}], \"axesbg\": \"#FFFFFF\", \"axesbgalpha\": null, \"zoomable\": true, \"id\": \"el134724131157170894752\", \"lines\": [{\"data\": \"data01\", \"xindex\": 0, \"yindex\": 1, \"coordinates\": \"data\", \"id\": \"el134724131157171611904\", \"color\": \"#1F77B4\", \"linewidth\": 1.5, \"dasharray\": \"none\", \"alpha\": 1, \"zorder\": 2, \"drawstyle\": \"default\"}, {\"data\": \"data01\", \"xindex\": 0, \"yindex\": 2, \"coordinates\": \"data\", \"id\": \"el134724131157171610800\", \"color\": \"#FF7F0E\", \"linewidth\": 1.5, \"dasharray\": \"none\", \"alpha\": 1, \"zorder\": 2, \"drawstyle\": \"default\"}, {\"data\": \"data01\", \"xindex\": 0, \"yindex\": 3, \"coordinates\": \"data\", \"id\": \"el134724131157171602064\", \"color\": \"#2CA02C\", \"linewidth\": 1.5, \"dasharray\": \"none\", \"alpha\": 1, \"zorder\": 2, \"drawstyle\": \"default\"}, {\"data\": \"data01\", \"xindex\": 0, \"yindex\": 4, \"coordinates\": \"data\", \"id\": \"el134724131157171607488\", \"color\": \"#D62728\", \"linewidth\": 1.5, \"dasharray\": \"none\", \"alpha\": 1, \"zorder\": 2, \"drawstyle\": \"default\"}, {\"data\": \"data02\", \"xindex\": 0, \"yindex\": 1, \"coordinates\": \"axes\", \"id\": \"el134724131157171602592\", \"color\": \"#1F77B4\", \"linewidth\": 1.5, \"dasharray\": \"none\", \"alpha\": 1, \"zorder\": 1000002.0, \"drawstyle\": \"default\"}, {\"data\": \"data02\", \"xindex\": 0, \"yindex\": 2, \"coordinates\": \"axes\", \"id\": \"el134724131157150114896\", \"color\": \"#FF7F0E\", \"linewidth\": 1.5, \"dasharray\": \"none\", \"alpha\": 1, \"zorder\": 1000002.0, \"drawstyle\": \"default\"}, {\"data\": \"data02\", \"xindex\": 0, \"yindex\": 3, \"coordinates\": \"axes\", \"id\": \"el134724131157150106544\", \"color\": \"#2CA02C\", \"linewidth\": 1.5, \"dasharray\": \"none\", \"alpha\": 1, \"zorder\": 1000002.0, \"drawstyle\": \"default\"}, {\"data\": \"data02\", \"xindex\": 0, \"yindex\": 4, \"coordinates\": \"axes\", \"id\": \"el134724131157150120512\", \"color\": \"#D62728\", \"linewidth\": 1.5, \"dasharray\": \"none\", \"alpha\": 1, \"zorder\": 1000002.0, \"drawstyle\": \"default\"}], \"paths\": [{\"data\": \"data03\", \"xindex\": 0, \"yindex\": 1, \"coordinates\": \"axes\", \"pathcodes\": [\"M\", \"L\", \"S\", \"L\", \"S\", \"L\", \"S\", \"L\", \"S\", \"Z\"], \"id\": \"el134724131157183556800\", \"dasharray\": \"none\", \"alpha\": 0.8, \"facecolor\": \"rgba(255, 255, 255, 0.8)\", \"edgecolor\": \"rgba(204, 204, 204, 0.8)\", \"edgewidth\": 1.0, \"zorder\": 1000000.0}], \"markers\": [], \"texts\": [{\"text\": \"R_G\", \"position\": [0.5, 1.0225468975468974], \"coordinates\": \"axes\", \"h_anchor\": \"middle\", \"v_baseline\": \"auto\", \"rotation\": -0.0, \"fontsize\": 12.0, \"color\": \"#000000\", \"alpha\": 1, \"zorder\": 3, \"id\": \"el134724131157149881200\"}, {\"text\": \"qx\", \"position\": [0.9339717741935484, 0.5741792929292929], \"coordinates\": \"axes\", \"h_anchor\": \"start\", \"v_baseline\": \"auto\", \"rotation\": -0.0, \"fontsize\": 10.0, \"color\": \"#000000\", \"alpha\": 1, \"zorder\": 1000003.0, \"id\": \"el134724131157171606720\"}, {\"text\": \"qy\", \"position\": [0.9339717741935484, 0.5175114237614237], \"coordinates\": \"axes\", \"h_anchor\": \"start\", \"v_baseline\": \"auto\", \"rotation\": -0.0, \"fontsize\": 10.0, \"color\": \"#000000\", \"alpha\": 1, \"zorder\": 1000003.0, \"id\": \"el134724131157149879136\"}, {\"text\": \"qz\", \"position\": [0.9339717741935484, 0.46084355459355464], \"coordinates\": \"axes\", \"h_anchor\": \"start\", \"v_baseline\": \"auto\", \"rotation\": -0.0, \"fontsize\": 10.0, \"color\": \"#000000\", \"alpha\": 1, \"zorder\": 1000003.0, \"id\": \"el134724131157150119120\"}, {\"text\": \"qw\", \"position\": [0.9339717741935484, 0.4041756854256855], \"coordinates\": \"axes\", \"h_anchor\": \"start\", \"v_baseline\": \"auto\", \"rotation\": -0.0, \"fontsize\": 10.0, \"color\": \"#000000\", \"alpha\": 1, \"zorder\": 1000003.0, \"id\": \"el134724131157150117200\"}], \"collections\": [], \"images\": [], \"sharex\": [], \"sharey\": []}], \"data\": {\"data01\": [[0.0, 0.7071067811865476, -0.7071067811865476, 0.0, 0.0], [5.390964663211957, 0.7071067811865476, -0.7071067811865476, 0.0, 0.0], [7.390964663211957, 0.7071067811865476, -0.7071067811865476, 0.0, 0.0], [9.390964663211957, 0.7071067811865476, -0.7071067811865476, 0.0, 0.0], [11.390964663211957, 0.7071067811865476, -0.7071067811865476, 0.0, 0.0], [18.145592706265106, 0.6532814824381883, -0.6532814824381883, -0.27059805007309845, 0.27059805007309845], [24.900220749318255, 0.5000000000000001, -0.5, -0.5, 0.5], [26.900220749318255, 0.5000000000000001, -0.5, -0.5, 0.5], [28.900220749318255, 0.5000000000000001, -0.5, -0.5, 0.5], [30.900220749318255, 0.5000000000000001, -0.5, -0.5, 0.5]], \"data02\": [[0.8555667562724013, 0.5873316498316499, 0.5306637806637806, 0.4739959114959115, 0.4173280423280424], [0.8835685483870966, 0.5873316498316499, 0.5306637806637806, 0.4739959114959115, 0.4173280423280424], [0.911570340501792, 0.5873316498316499, 0.5306637806637806, 0.4739959114959115, 0.4173280423280424]], \"data03\": [[0.8499663978494624, 0.38102753727753724], [0.9803987455197131, 0.38102753727753724], [0.9859991039426522, 0.38102753727753724], [0.9859991039426522, 0.3885431697931697], [0.9859991039426522, 0.6114568302068302], [0.9859991039426522, 0.6189724627224626], [0.9803987455197131, 0.6189724627224626], [0.8499663978494624, 0.6189724627224626], [0.8443660394265232, 0.6189724627224626], [0.8443660394265232, 0.6114568302068302], [0.8443660394265232, 0.3885431697931697], [0.8443660394265232, 0.38102753727753724], [0.8499663978494624, 0.38102753727753724]]}, \"id\": \"el134724131157170771280\", \"plugins\": [{\"type\": \"reset\"}, {\"type\": \"zoom\", \"button\": true, \"enabled\": false}, {\"type\": \"boxzoom\", \"button\": true, \"enabled\": false}]});\n",
       "   }(mpld3);\n",
       "}else if(typeof define === \"function\" && define.amd){\n",
       "   // require.js is available: use it to load d3/mpld3\n",
       "   require.config({paths: {d3: \"https://d3js.org/d3.v5\"}});\n",
       "   require([\"d3\"], function(d3){\n",
       "      window.d3 = d3;\n",
       "      mpld3_load_lib(\"https://mpld3.github.io/js/mpld3.v0.5.10.js\", function(){\n",
       "         \n",
       "         mpld3.draw_figure(\"fig_el1347241311571707712805206716562\", {\"width\": 640.0, \"height\": 480.0, \"axes\": [{\"bbox\": [0.125, 0.10999999999999999, 0.775, 0.77], \"xlim\": [-1.5450110374659127, 32.44523178678417], \"ylim\": [-0.7778174593052023, 0.7778174593052023], \"xdomain\": [-1.5450110374659127, 32.44523178678417], \"ydomain\": [-0.7778174593052023, 0.7778174593052023], \"xscale\": \"linear\", \"yscale\": \"linear\", \"axes\": [{\"position\": \"bottom\", \"nticks\": 9, \"tickvalues\": null, \"tickformat_formatter\": \"\", \"tickformat\": null, \"scale\": \"linear\", \"fontsize\": 10.0, \"grid\": {\"gridOn\": false}, \"visible\": true}, {\"position\": \"left\", \"nticks\": 9, \"tickvalues\": null, \"tickformat_formatter\": \"\", \"tickformat\": null, \"scale\": \"linear\", \"fontsize\": 10.0, \"grid\": {\"gridOn\": false}, \"visible\": true}], \"axesbg\": \"#FFFFFF\", \"axesbgalpha\": null, \"zoomable\": true, \"id\": \"el134724131157170894752\", \"lines\": [{\"data\": \"data01\", \"xindex\": 0, \"yindex\": 1, \"coordinates\": \"data\", \"id\": \"el134724131157171611904\", \"color\": \"#1F77B4\", \"linewidth\": 1.5, \"dasharray\": \"none\", \"alpha\": 1, \"zorder\": 2, \"drawstyle\": \"default\"}, {\"data\": \"data01\", \"xindex\": 0, \"yindex\": 2, \"coordinates\": \"data\", \"id\": \"el134724131157171610800\", \"color\": \"#FF7F0E\", \"linewidth\": 1.5, \"dasharray\": \"none\", \"alpha\": 1, \"zorder\": 2, \"drawstyle\": \"default\"}, {\"data\": \"data01\", \"xindex\": 0, \"yindex\": 3, \"coordinates\": \"data\", \"id\": \"el134724131157171602064\", \"color\": \"#2CA02C\", \"linewidth\": 1.5, \"dasharray\": \"none\", \"alpha\": 1, \"zorder\": 2, \"drawstyle\": \"default\"}, {\"data\": \"data01\", \"xindex\": 0, \"yindex\": 4, \"coordinates\": \"data\", \"id\": \"el134724131157171607488\", \"color\": \"#D62728\", \"linewidth\": 1.5, \"dasharray\": \"none\", \"alpha\": 1, \"zorder\": 2, \"drawstyle\": \"default\"}, {\"data\": \"data02\", \"xindex\": 0, \"yindex\": 1, \"coordinates\": \"axes\", \"id\": \"el134724131157171602592\", \"color\": \"#1F77B4\", \"linewidth\": 1.5, \"dasharray\": \"none\", \"alpha\": 1, \"zorder\": 1000002.0, \"drawstyle\": \"default\"}, {\"data\": \"data02\", \"xindex\": 0, \"yindex\": 2, \"coordinates\": \"axes\", \"id\": \"el134724131157150114896\", \"color\": \"#FF7F0E\", \"linewidth\": 1.5, \"dasharray\": \"none\", \"alpha\": 1, \"zorder\": 1000002.0, \"drawstyle\": \"default\"}, {\"data\": \"data02\", \"xindex\": 0, \"yindex\": 3, \"coordinates\": \"axes\", \"id\": \"el134724131157150106544\", \"color\": \"#2CA02C\", \"linewidth\": 1.5, \"dasharray\": \"none\", \"alpha\": 1, \"zorder\": 1000002.0, \"drawstyle\": \"default\"}, {\"data\": \"data02\", \"xindex\": 0, \"yindex\": 4, \"coordinates\": \"axes\", \"id\": \"el134724131157150120512\", \"color\": \"#D62728\", \"linewidth\": 1.5, \"dasharray\": \"none\", \"alpha\": 1, \"zorder\": 1000002.0, \"drawstyle\": \"default\"}], \"paths\": [{\"data\": \"data03\", \"xindex\": 0, \"yindex\": 1, \"coordinates\": \"axes\", \"pathcodes\": [\"M\", \"L\", \"S\", \"L\", \"S\", \"L\", \"S\", \"L\", \"S\", \"Z\"], \"id\": \"el134724131157183556800\", \"dasharray\": \"none\", \"alpha\": 0.8, \"facecolor\": \"rgba(255, 255, 255, 0.8)\", \"edgecolor\": \"rgba(204, 204, 204, 0.8)\", \"edgewidth\": 1.0, \"zorder\": 1000000.0}], \"markers\": [], \"texts\": [{\"text\": \"R_G\", \"position\": [0.5, 1.0225468975468974], \"coordinates\": \"axes\", \"h_anchor\": \"middle\", \"v_baseline\": \"auto\", \"rotation\": -0.0, \"fontsize\": 12.0, \"color\": \"#000000\", \"alpha\": 1, \"zorder\": 3, \"id\": \"el134724131157149881200\"}, {\"text\": \"qx\", \"position\": [0.9339717741935484, 0.5741792929292929], \"coordinates\": \"axes\", \"h_anchor\": \"start\", \"v_baseline\": \"auto\", \"rotation\": -0.0, \"fontsize\": 10.0, \"color\": \"#000000\", \"alpha\": 1, \"zorder\": 1000003.0, \"id\": \"el134724131157171606720\"}, {\"text\": \"qy\", \"position\": [0.9339717741935484, 0.5175114237614237], \"coordinates\": \"axes\", \"h_anchor\": \"start\", \"v_baseline\": \"auto\", \"rotation\": -0.0, \"fontsize\": 10.0, \"color\": \"#000000\", \"alpha\": 1, \"zorder\": 1000003.0, \"id\": \"el134724131157149879136\"}, {\"text\": \"qz\", \"position\": [0.9339717741935484, 0.46084355459355464], \"coordinates\": \"axes\", \"h_anchor\": \"start\", \"v_baseline\": \"auto\", \"rotation\": -0.0, \"fontsize\": 10.0, \"color\": \"#000000\", \"alpha\": 1, \"zorder\": 1000003.0, \"id\": \"el134724131157150119120\"}, {\"text\": \"qw\", \"position\": [0.9339717741935484, 0.4041756854256855], \"coordinates\": \"axes\", \"h_anchor\": \"start\", \"v_baseline\": \"auto\", \"rotation\": -0.0, \"fontsize\": 10.0, \"color\": \"#000000\", \"alpha\": 1, \"zorder\": 1000003.0, \"id\": \"el134724131157150117200\"}], \"collections\": [], \"images\": [], \"sharex\": [], \"sharey\": []}], \"data\": {\"data01\": [[0.0, 0.7071067811865476, -0.7071067811865476, 0.0, 0.0], [5.390964663211957, 0.7071067811865476, -0.7071067811865476, 0.0, 0.0], [7.390964663211957, 0.7071067811865476, -0.7071067811865476, 0.0, 0.0], [9.390964663211957, 0.7071067811865476, -0.7071067811865476, 0.0, 0.0], [11.390964663211957, 0.7071067811865476, -0.7071067811865476, 0.0, 0.0], [18.145592706265106, 0.6532814824381883, -0.6532814824381883, -0.27059805007309845, 0.27059805007309845], [24.900220749318255, 0.5000000000000001, -0.5, -0.5, 0.5], [26.900220749318255, 0.5000000000000001, -0.5, -0.5, 0.5], [28.900220749318255, 0.5000000000000001, -0.5, -0.5, 0.5], [30.900220749318255, 0.5000000000000001, -0.5, -0.5, 0.5]], \"data02\": [[0.8555667562724013, 0.5873316498316499, 0.5306637806637806, 0.4739959114959115, 0.4173280423280424], [0.8835685483870966, 0.5873316498316499, 0.5306637806637806, 0.4739959114959115, 0.4173280423280424], [0.911570340501792, 0.5873316498316499, 0.5306637806637806, 0.4739959114959115, 0.4173280423280424]], \"data03\": [[0.8499663978494624, 0.38102753727753724], [0.9803987455197131, 0.38102753727753724], [0.9859991039426522, 0.38102753727753724], [0.9859991039426522, 0.3885431697931697], [0.9859991039426522, 0.6114568302068302], [0.9859991039426522, 0.6189724627224626], [0.9803987455197131, 0.6189724627224626], [0.8499663978494624, 0.6189724627224626], [0.8443660394265232, 0.6189724627224626], [0.8443660394265232, 0.6114568302068302], [0.8443660394265232, 0.3885431697931697], [0.8443660394265232, 0.38102753727753724], [0.8499663978494624, 0.38102753727753724]]}, \"id\": \"el134724131157170771280\", \"plugins\": [{\"type\": \"reset\"}, {\"type\": \"zoom\", \"button\": true, \"enabled\": false}, {\"type\": \"boxzoom\", \"button\": true, \"enabled\": false}]});\n",
       "      });\n",
       "    });\n",
       "}else{\n",
       "    // require.js not available: dynamically load d3 & mpld3\n",
       "    mpld3_load_lib(\"https://d3js.org/d3.v5.js\", function(){\n",
       "         mpld3_load_lib(\"https://mpld3.github.io/js/mpld3.v0.5.10.js\", function(){\n",
       "                 \n",
       "                 mpld3.draw_figure(\"fig_el1347241311571707712805206716562\", {\"width\": 640.0, \"height\": 480.0, \"axes\": [{\"bbox\": [0.125, 0.10999999999999999, 0.775, 0.77], \"xlim\": [-1.5450110374659127, 32.44523178678417], \"ylim\": [-0.7778174593052023, 0.7778174593052023], \"xdomain\": [-1.5450110374659127, 32.44523178678417], \"ydomain\": [-0.7778174593052023, 0.7778174593052023], \"xscale\": \"linear\", \"yscale\": \"linear\", \"axes\": [{\"position\": \"bottom\", \"nticks\": 9, \"tickvalues\": null, \"tickformat_formatter\": \"\", \"tickformat\": null, \"scale\": \"linear\", \"fontsize\": 10.0, \"grid\": {\"gridOn\": false}, \"visible\": true}, {\"position\": \"left\", \"nticks\": 9, \"tickvalues\": null, \"tickformat_formatter\": \"\", \"tickformat\": null, \"scale\": \"linear\", \"fontsize\": 10.0, \"grid\": {\"gridOn\": false}, \"visible\": true}], \"axesbg\": \"#FFFFFF\", \"axesbgalpha\": null, \"zoomable\": true, \"id\": \"el134724131157170894752\", \"lines\": [{\"data\": \"data01\", \"xindex\": 0, \"yindex\": 1, \"coordinates\": \"data\", \"id\": \"el134724131157171611904\", \"color\": \"#1F77B4\", \"linewidth\": 1.5, \"dasharray\": \"none\", \"alpha\": 1, \"zorder\": 2, \"drawstyle\": \"default\"}, {\"data\": \"data01\", \"xindex\": 0, \"yindex\": 2, \"coordinates\": \"data\", \"id\": \"el134724131157171610800\", \"color\": \"#FF7F0E\", \"linewidth\": 1.5, \"dasharray\": \"none\", \"alpha\": 1, \"zorder\": 2, \"drawstyle\": \"default\"}, {\"data\": \"data01\", \"xindex\": 0, \"yindex\": 3, \"coordinates\": \"data\", \"id\": \"el134724131157171602064\", \"color\": \"#2CA02C\", \"linewidth\": 1.5, \"dasharray\": \"none\", \"alpha\": 1, \"zorder\": 2, \"drawstyle\": \"default\"}, {\"data\": \"data01\", \"xindex\": 0, \"yindex\": 4, \"coordinates\": \"data\", \"id\": \"el134724131157171607488\", \"color\": \"#D62728\", \"linewidth\": 1.5, \"dasharray\": \"none\", \"alpha\": 1, \"zorder\": 2, \"drawstyle\": \"default\"}, {\"data\": \"data02\", \"xindex\": 0, \"yindex\": 1, \"coordinates\": \"axes\", \"id\": \"el134724131157171602592\", \"color\": \"#1F77B4\", \"linewidth\": 1.5, \"dasharray\": \"none\", \"alpha\": 1, \"zorder\": 1000002.0, \"drawstyle\": \"default\"}, {\"data\": \"data02\", \"xindex\": 0, \"yindex\": 2, \"coordinates\": \"axes\", \"id\": \"el134724131157150114896\", \"color\": \"#FF7F0E\", \"linewidth\": 1.5, \"dasharray\": \"none\", \"alpha\": 1, \"zorder\": 1000002.0, \"drawstyle\": \"default\"}, {\"data\": \"data02\", \"xindex\": 0, \"yindex\": 3, \"coordinates\": \"axes\", \"id\": \"el134724131157150106544\", \"color\": \"#2CA02C\", \"linewidth\": 1.5, \"dasharray\": \"none\", \"alpha\": 1, \"zorder\": 1000002.0, \"drawstyle\": \"default\"}, {\"data\": \"data02\", \"xindex\": 0, \"yindex\": 4, \"coordinates\": \"axes\", \"id\": \"el134724131157150120512\", \"color\": \"#D62728\", \"linewidth\": 1.5, \"dasharray\": \"none\", \"alpha\": 1, \"zorder\": 1000002.0, \"drawstyle\": \"default\"}], \"paths\": [{\"data\": \"data03\", \"xindex\": 0, \"yindex\": 1, \"coordinates\": \"axes\", \"pathcodes\": [\"M\", \"L\", \"S\", \"L\", \"S\", \"L\", \"S\", \"L\", \"S\", \"Z\"], \"id\": \"el134724131157183556800\", \"dasharray\": \"none\", \"alpha\": 0.8, \"facecolor\": \"rgba(255, 255, 255, 0.8)\", \"edgecolor\": \"rgba(204, 204, 204, 0.8)\", \"edgewidth\": 1.0, \"zorder\": 1000000.0}], \"markers\": [], \"texts\": [{\"text\": \"R_G\", \"position\": [0.5, 1.0225468975468974], \"coordinates\": \"axes\", \"h_anchor\": \"middle\", \"v_baseline\": \"auto\", \"rotation\": -0.0, \"fontsize\": 12.0, \"color\": \"#000000\", \"alpha\": 1, \"zorder\": 3, \"id\": \"el134724131157149881200\"}, {\"text\": \"qx\", \"position\": [0.9339717741935484, 0.5741792929292929], \"coordinates\": \"axes\", \"h_anchor\": \"start\", \"v_baseline\": \"auto\", \"rotation\": -0.0, \"fontsize\": 10.0, \"color\": \"#000000\", \"alpha\": 1, \"zorder\": 1000003.0, \"id\": \"el134724131157171606720\"}, {\"text\": \"qy\", \"position\": [0.9339717741935484, 0.5175114237614237], \"coordinates\": \"axes\", \"h_anchor\": \"start\", \"v_baseline\": \"auto\", \"rotation\": -0.0, \"fontsize\": 10.0, \"color\": \"#000000\", \"alpha\": 1, \"zorder\": 1000003.0, \"id\": \"el134724131157149879136\"}, {\"text\": \"qz\", \"position\": [0.9339717741935484, 0.46084355459355464], \"coordinates\": \"axes\", \"h_anchor\": \"start\", \"v_baseline\": \"auto\", \"rotation\": -0.0, \"fontsize\": 10.0, \"color\": \"#000000\", \"alpha\": 1, \"zorder\": 1000003.0, \"id\": \"el134724131157150119120\"}, {\"text\": \"qw\", \"position\": [0.9339717741935484, 0.4041756854256855], \"coordinates\": \"axes\", \"h_anchor\": \"start\", \"v_baseline\": \"auto\", \"rotation\": -0.0, \"fontsize\": 10.0, \"color\": \"#000000\", \"alpha\": 1, \"zorder\": 1000003.0, \"id\": \"el134724131157150117200\"}], \"collections\": [], \"images\": [], \"sharex\": [], \"sharey\": []}], \"data\": {\"data01\": [[0.0, 0.7071067811865476, -0.7071067811865476, 0.0, 0.0], [5.390964663211957, 0.7071067811865476, -0.7071067811865476, 0.0, 0.0], [7.390964663211957, 0.7071067811865476, -0.7071067811865476, 0.0, 0.0], [9.390964663211957, 0.7071067811865476, -0.7071067811865476, 0.0, 0.0], [11.390964663211957, 0.7071067811865476, -0.7071067811865476, 0.0, 0.0], [18.145592706265106, 0.6532814824381883, -0.6532814824381883, -0.27059805007309845, 0.27059805007309845], [24.900220749318255, 0.5000000000000001, -0.5, -0.5, 0.5], [26.900220749318255, 0.5000000000000001, -0.5, -0.5, 0.5], [28.900220749318255, 0.5000000000000001, -0.5, -0.5, 0.5], [30.900220749318255, 0.5000000000000001, -0.5, -0.5, 0.5]], \"data02\": [[0.8555667562724013, 0.5873316498316499, 0.5306637806637806, 0.4739959114959115, 0.4173280423280424], [0.8835685483870966, 0.5873316498316499, 0.5306637806637806, 0.4739959114959115, 0.4173280423280424], [0.911570340501792, 0.5873316498316499, 0.5306637806637806, 0.4739959114959115, 0.4173280423280424]], \"data03\": [[0.8499663978494624, 0.38102753727753724], [0.9803987455197131, 0.38102753727753724], [0.9859991039426522, 0.38102753727753724], [0.9859991039426522, 0.3885431697931697], [0.9859991039426522, 0.6114568302068302], [0.9859991039426522, 0.6189724627224626], [0.9803987455197131, 0.6189724627224626], [0.8499663978494624, 0.6189724627224626], [0.8443660394265232, 0.6189724627224626], [0.8443660394265232, 0.6114568302068302], [0.8443660394265232, 0.3885431697931697], [0.8443660394265232, 0.38102753727753724], [0.8499663978494624, 0.38102753727753724]]}, \"id\": \"el134724131157170771280\", \"plugins\": [{\"type\": \"reset\"}, {\"type\": \"zoom\", \"button\": true, \"enabled\": false}, {\"type\": \"boxzoom\", \"button\": true, \"enabled\": false}]});\n",
       "            })\n",
       "         });\n",
       "}\n",
       "</script>"
      ],
      "text/plain": [
       "<IPython.core.display.HTML object>"
      ]
     },
     "execution_count": 22,
     "metadata": {},
     "output_type": "execute_result"
    }
   ],
   "source": [
    "traj_R_G = traj_X_G.get_orientation_trajectory()\n",
    "R_G = traj_R_G.vector_values(traj_R_G.get_segment_times())\n",
    "plt.plot(traj_R_G.get_segment_times(), R_G.T)\n",
    "plt.legend([\"qx\", \"qy\", \"qz\", \"qw\"])\n",
    "plt.title(\"R_G\")\n",
    "mpld3.display()"
   ]
  },
  {
   "cell_type": "markdown",
   "id": "77e65899",
   "metadata": {
    "colab_type": "text",
    "id": "dWCyowMC8LUN"
   },
   "source": [
    "Better, I think, to just plot the entire result.  Before we do, let's quickly define the finger trajectory."
   ]
  },
  {
   "cell_type": "code",
   "execution_count": 23,
   "id": "6cd33c1e",
   "metadata": {
    "colab": {},
    "colab_type": "code",
    "id": "65OocrXD8TSA"
   },
   "outputs": [],
   "source": [
    "def MakeGripperCommandTrajectory(times):\n",
    "    opened = np.array([0.107])\n",
    "    closed = np.array([0.0])\n",
    "\n",
    "    traj_wsg_command = PiecewisePolynomial.FirstOrderHold(\n",
    "        [times[\"initial\"], times[\"pick_start\"]],\n",
    "        np.hstack([[opened], [opened]]),\n",
    "    )\n",
    "    traj_wsg_command.AppendFirstOrderSegment(times[\"pick_end\"], closed)\n",
    "    traj_wsg_command.AppendFirstOrderSegment(times[\"place_start\"], closed)\n",
    "    traj_wsg_command.AppendFirstOrderSegment(times[\"place_end\"], opened)\n",
    "    traj_wsg_command.AppendFirstOrderSegment(times[\"postplace\"], opened)\n",
    "    return traj_wsg_command\n",
    "\n",
    "\n",
    "traj_wsg_command = MakeGripperCommandTrajectory(times)"
   ]
  },
  {
   "cell_type": "code",
   "execution_count": 24,
   "id": "f53356a8",
   "metadata": {
    "colab": {},
    "colab_type": "code",
    "id": "aEc95stq9tyx"
   },
   "outputs": [
    {
     "name": "stderr",
     "output_type": "stream",
     "text": [
      "/home/shreyas/virtualenvs/drake_env/lib/python3.12/site-packages/mpld3/mplexporter/utils.py:300: MatplotlibDeprecationWarning: The converter attribute was deprecated in Matplotlib 3.10 and will be removed in 3.12. Use get_converter and set_converter methods instead.\n",
      "  isinstance(axis.converter, matplotlib.dates._SwitchableDateConverter)\n",
      "/home/shreyas/virtualenvs/drake_env/lib/python3.12/site-packages/mpld3/mplexporter/utils.py:303: MatplotlibDeprecationWarning: The converter attribute was deprecated in Matplotlib 3.10 and will be removed in 3.12. Use get_converter and set_converter methods instead.\n",
      "  isinstance(axis.converter, matplotlib.dates.DateConverter)\n",
      "/home/shreyas/virtualenvs/drake_env/lib/python3.12/site-packages/mpld3/mplexporter/utils.py:306: MatplotlibDeprecationWarning: The converter attribute was deprecated in Matplotlib 3.10 and will be removed in 3.12. Use get_converter and set_converter methods instead.\n",
      "  isinstance(axis.converter, matplotlib.dates.ConciseDateConverter)\n",
      "/home/shreyas/virtualenvs/drake_env/lib/python3.12/site-packages/mpld3/mplexporter/utils.py:300: MatplotlibDeprecationWarning: The converter attribute was deprecated in Matplotlib 3.10 and will be removed in 3.12. Use get_converter and set_converter methods instead.\n",
      "  isinstance(axis.converter, matplotlib.dates._SwitchableDateConverter)\n",
      "/home/shreyas/virtualenvs/drake_env/lib/python3.12/site-packages/mpld3/mplexporter/utils.py:303: MatplotlibDeprecationWarning: The converter attribute was deprecated in Matplotlib 3.10 and will be removed in 3.12. Use get_converter and set_converter methods instead.\n",
      "  isinstance(axis.converter, matplotlib.dates.DateConverter)\n",
      "/home/shreyas/virtualenvs/drake_env/lib/python3.12/site-packages/mpld3/mplexporter/utils.py:306: MatplotlibDeprecationWarning: The converter attribute was deprecated in Matplotlib 3.10 and will be removed in 3.12. Use get_converter and set_converter methods instead.\n",
      "  isinstance(axis.converter, matplotlib.dates.ConciseDateConverter)\n"
     ]
    },
    {
     "data": {
      "text/html": [
       "\n",
       "\n",
       "<style>\n",
       "\n",
       "</style>\n",
       "\n",
       "<div id=\"fig_el1347241311571714853446240840831\"></div>\n",
       "<script>\n",
       "function mpld3_load_lib(url, callback){\n",
       "  var s = document.createElement('script');\n",
       "  s.src = url;\n",
       "  s.async = true;\n",
       "  s.onreadystatechange = s.onload = callback;\n",
       "  s.onerror = function(){console.warn(\"failed to load library \" + url);};\n",
       "  document.getElementsByTagName(\"head\")[0].appendChild(s);\n",
       "}\n",
       "\n",
       "if(typeof(mpld3) !== \"undefined\" && mpld3._mpld3IsLoaded){\n",
       "   // already loaded: just create the figure\n",
       "   !function(mpld3){\n",
       "       \n",
       "       mpld3.draw_figure(\"fig_el1347241311571714853446240840831\", {\"width\": 640.0, \"height\": 480.0, \"axes\": [{\"bbox\": [0.125, 0.10999999999999999, 0.775, 0.77], \"xlim\": [-1.5450110374659127, 32.44523178678417], \"ylim\": [-0.005350000000000001, 0.11235], \"xdomain\": [-1.5450110374659127, 32.44523178678417], \"ydomain\": [-0.005350000000000001, 0.11235], \"xscale\": \"linear\", \"yscale\": \"linear\", \"axes\": [{\"position\": \"bottom\", \"nticks\": 9, \"tickvalues\": null, \"tickformat_formatter\": \"\", \"tickformat\": null, \"scale\": \"linear\", \"fontsize\": 10.0, \"grid\": {\"gridOn\": false}, \"visible\": true}, {\"position\": \"left\", \"nticks\": 8, \"tickvalues\": null, \"tickformat_formatter\": \"\", \"tickformat\": null, \"scale\": \"linear\", \"fontsize\": 10.0, \"grid\": {\"gridOn\": false}, \"visible\": true}], \"axesbg\": \"#FFFFFF\", \"axesbgalpha\": null, \"zoomable\": true, \"id\": \"el134724131157150466320\", \"lines\": [{\"data\": \"data01\", \"xindex\": 0, \"yindex\": 1, \"coordinates\": \"data\", \"id\": \"el134724131157034474416\", \"color\": \"#1F77B4\", \"linewidth\": 1.5, \"dasharray\": \"none\", \"alpha\": 1, \"zorder\": 2, \"drawstyle\": \"default\"}], \"paths\": [], \"markers\": [], \"texts\": [{\"text\": \"wsg_command\", \"position\": [0.5, 1.0225468975468974], \"coordinates\": \"axes\", \"h_anchor\": \"middle\", \"v_baseline\": \"auto\", \"rotation\": -0.0, \"fontsize\": 12.0, \"color\": \"#000000\", \"alpha\": 1, \"zorder\": 3, \"id\": \"el134724131157034399456\"}], \"collections\": [], \"images\": [], \"sharex\": [], \"sharey\": []}], \"data\": {\"data01\": [[0.0, 0.107], [7.390964663211957, 0.107], [9.390964663211957, 0.0], [26.900220749318255, 0.0], [28.900220749318255, 0.107], [30.900220749318255, 0.107]]}, \"id\": \"el134724131157171485344\", \"plugins\": [{\"type\": \"reset\"}, {\"type\": \"zoom\", \"button\": true, \"enabled\": false}, {\"type\": \"boxzoom\", \"button\": true, \"enabled\": false}]});\n",
       "   }(mpld3);\n",
       "}else if(typeof define === \"function\" && define.amd){\n",
       "   // require.js is available: use it to load d3/mpld3\n",
       "   require.config({paths: {d3: \"https://d3js.org/d3.v5\"}});\n",
       "   require([\"d3\"], function(d3){\n",
       "      window.d3 = d3;\n",
       "      mpld3_load_lib(\"https://mpld3.github.io/js/mpld3.v0.5.10.js\", function(){\n",
       "         \n",
       "         mpld3.draw_figure(\"fig_el1347241311571714853446240840831\", {\"width\": 640.0, \"height\": 480.0, \"axes\": [{\"bbox\": [0.125, 0.10999999999999999, 0.775, 0.77], \"xlim\": [-1.5450110374659127, 32.44523178678417], \"ylim\": [-0.005350000000000001, 0.11235], \"xdomain\": [-1.5450110374659127, 32.44523178678417], \"ydomain\": [-0.005350000000000001, 0.11235], \"xscale\": \"linear\", \"yscale\": \"linear\", \"axes\": [{\"position\": \"bottom\", \"nticks\": 9, \"tickvalues\": null, \"tickformat_formatter\": \"\", \"tickformat\": null, \"scale\": \"linear\", \"fontsize\": 10.0, \"grid\": {\"gridOn\": false}, \"visible\": true}, {\"position\": \"left\", \"nticks\": 8, \"tickvalues\": null, \"tickformat_formatter\": \"\", \"tickformat\": null, \"scale\": \"linear\", \"fontsize\": 10.0, \"grid\": {\"gridOn\": false}, \"visible\": true}], \"axesbg\": \"#FFFFFF\", \"axesbgalpha\": null, \"zoomable\": true, \"id\": \"el134724131157150466320\", \"lines\": [{\"data\": \"data01\", \"xindex\": 0, \"yindex\": 1, \"coordinates\": \"data\", \"id\": \"el134724131157034474416\", \"color\": \"#1F77B4\", \"linewidth\": 1.5, \"dasharray\": \"none\", \"alpha\": 1, \"zorder\": 2, \"drawstyle\": \"default\"}], \"paths\": [], \"markers\": [], \"texts\": [{\"text\": \"wsg_command\", \"position\": [0.5, 1.0225468975468974], \"coordinates\": \"axes\", \"h_anchor\": \"middle\", \"v_baseline\": \"auto\", \"rotation\": -0.0, \"fontsize\": 12.0, \"color\": \"#000000\", \"alpha\": 1, \"zorder\": 3, \"id\": \"el134724131157034399456\"}], \"collections\": [], \"images\": [], \"sharex\": [], \"sharey\": []}], \"data\": {\"data01\": [[0.0, 0.107], [7.390964663211957, 0.107], [9.390964663211957, 0.0], [26.900220749318255, 0.0], [28.900220749318255, 0.107], [30.900220749318255, 0.107]]}, \"id\": \"el134724131157171485344\", \"plugins\": [{\"type\": \"reset\"}, {\"type\": \"zoom\", \"button\": true, \"enabled\": false}, {\"type\": \"boxzoom\", \"button\": true, \"enabled\": false}]});\n",
       "      });\n",
       "    });\n",
       "}else{\n",
       "    // require.js not available: dynamically load d3 & mpld3\n",
       "    mpld3_load_lib(\"https://d3js.org/d3.v5.js\", function(){\n",
       "         mpld3_load_lib(\"https://mpld3.github.io/js/mpld3.v0.5.10.js\", function(){\n",
       "                 \n",
       "                 mpld3.draw_figure(\"fig_el1347241311571714853446240840831\", {\"width\": 640.0, \"height\": 480.0, \"axes\": [{\"bbox\": [0.125, 0.10999999999999999, 0.775, 0.77], \"xlim\": [-1.5450110374659127, 32.44523178678417], \"ylim\": [-0.005350000000000001, 0.11235], \"xdomain\": [-1.5450110374659127, 32.44523178678417], \"ydomain\": [-0.005350000000000001, 0.11235], \"xscale\": \"linear\", \"yscale\": \"linear\", \"axes\": [{\"position\": \"bottom\", \"nticks\": 9, \"tickvalues\": null, \"tickformat_formatter\": \"\", \"tickformat\": null, \"scale\": \"linear\", \"fontsize\": 10.0, \"grid\": {\"gridOn\": false}, \"visible\": true}, {\"position\": \"left\", \"nticks\": 8, \"tickvalues\": null, \"tickformat_formatter\": \"\", \"tickformat\": null, \"scale\": \"linear\", \"fontsize\": 10.0, \"grid\": {\"gridOn\": false}, \"visible\": true}], \"axesbg\": \"#FFFFFF\", \"axesbgalpha\": null, \"zoomable\": true, \"id\": \"el134724131157150466320\", \"lines\": [{\"data\": \"data01\", \"xindex\": 0, \"yindex\": 1, \"coordinates\": \"data\", \"id\": \"el134724131157034474416\", \"color\": \"#1F77B4\", \"linewidth\": 1.5, \"dasharray\": \"none\", \"alpha\": 1, \"zorder\": 2, \"drawstyle\": \"default\"}], \"paths\": [], \"markers\": [], \"texts\": [{\"text\": \"wsg_command\", \"position\": [0.5, 1.0225468975468974], \"coordinates\": \"axes\", \"h_anchor\": \"middle\", \"v_baseline\": \"auto\", \"rotation\": -0.0, \"fontsize\": 12.0, \"color\": \"#000000\", \"alpha\": 1, \"zorder\": 3, \"id\": \"el134724131157034399456\"}], \"collections\": [], \"images\": [], \"sharex\": [], \"sharey\": []}], \"data\": {\"data01\": [[0.0, 0.107], [7.390964663211957, 0.107], [9.390964663211957, 0.0], [26.900220749318255, 0.0], [28.900220749318255, 0.107], [30.900220749318255, 0.107]]}, \"id\": \"el134724131157171485344\", \"plugins\": [{\"type\": \"reset\"}, {\"type\": \"zoom\", \"button\": true, \"enabled\": false}, {\"type\": \"boxzoom\", \"button\": true, \"enabled\": false}]});\n",
       "            })\n",
       "         });\n",
       "}\n",
       "</script>"
      ],
      "text/plain": [
       "<IPython.core.display.HTML object>"
      ]
     },
     "execution_count": 24,
     "metadata": {},
     "output_type": "execute_result"
    }
   ],
   "source": [
    "wsg_command = traj_wsg_command.vector_values(traj_wsg_command.get_segment_times())\n",
    "plt.plot(traj_wsg_command.get_segment_times(), wsg_command.T)\n",
    "plt.title(\"wsg_command\")\n",
    "mpld3.display()"
   ]
  },
  {
   "cell_type": "markdown",
   "id": "e25e901f",
   "metadata": {
    "colab_type": "text",
    "id": "wrhTvm5eIJFi"
   },
   "source": [
    "Now let's really visualize the trajectory.  The best way is to animate it in 3D!  Please forgive the messiness of this particular bit of code; I'm trying to provide some intermediate steps that aren't typically used by the main drake developers.\n",
    "\n",
    "TODO(russt): make this less \"bespoke\"."
   ]
  },
  {
   "cell_type": "code",
   "execution_count": 25,
   "id": "c40ee723",
   "metadata": {
    "colab": {},
    "colab_type": "code",
    "id": "PZ7S7oai_ORF"
   },
   "outputs": [],
   "source": [
    "class GripperTrajectoriesToPosition(LeafSystem):\n",
    "    def __init__(self, plant, traj_p_G, traj_R_G, traj_wsg_command):\n",
    "        LeafSystem.__init__(self)\n",
    "        self.plant = plant\n",
    "        self.gripper_body = plant.GetBodyByName(\"body\")\n",
    "        self.left_finger_joint = plant.GetJointByName(\"left_finger_sliding_joint\")\n",
    "        self.right_finger_joint = plant.GetJointByName(\"right_finger_sliding_joint\")\n",
    "        self.traj_p_G = traj_p_G\n",
    "        self.traj_R_G = traj_R_G\n",
    "        self.traj_wsg_command = traj_wsg_command\n",
    "        self.plant_context = plant.CreateDefaultContext()\n",
    "\n",
    "        self.DeclareVectorOutputPort(\n",
    "            \"position\", plant.num_positions(), self.CalcPositionOutput\n",
    "        )\n",
    "\n",
    "    def CalcPositionOutput(self, context, output):\n",
    "        t = context.get_time()\n",
    "        X_G = RigidTransform(Quaternion(self.traj_R_G.value(t)), self.traj_p_G.value(t))\n",
    "        self.plant.SetFreeBodyPose(self.plant_context, self.gripper_body, X_G)\n",
    "        wsg = self.traj_wsg_command.value(t)[0, 0]\n",
    "        self.left_finger_joint.set_translation(self.plant_context, -wsg / 2.0)\n",
    "        self.right_finger_joint.set_translation(self.plant_context, wsg / 2.0)\n",
    "        output.SetFromVector(self.plant.GetPositions(self.plant_context))\n",
    "\n",
    "\n",
    "def visualize_pick_and_place_trajectory(traj_p_G, traj_R_G, traj_wsg_command, X_O):\n",
    "    builder = DiagramBuilder()\n",
    "\n",
    "    # Note: Don't use AddMultibodyPlantSceneGraph because we are only using\n",
    "    # MultibodyPlant for parsing, then wiring directly to SceneGraph.\n",
    "    scene_graph = builder.AddSystem(SceneGraph())\n",
    "    plant = MultibodyPlant(time_step=0.0)\n",
    "    plant.RegisterAsSourceForSceneGraph(scene_graph)\n",
    "    parser = Parser(plant, scene_graph)\n",
    "    parser.SetAutoRenaming(True)\n",
    "    gripper = parser.AddModelsFromUrl(\n",
    "        \"package://drake_models/wsg_50_description/sdf/schunk_wsg_50_no_tip.sdf\"\n",
    "    )[0]\n",
    "    brick = \"package://drake_models/manipulation_station/061_foam_brick.sdf\"\n",
    "    for key, pose in X_O.items():\n",
    "        o = parser.AddModelsFromUrl(brick)[0]\n",
    "        plant.WeldFrames(\n",
    "            plant.world_frame(), plant.GetFrameByName(\"base_link\", o), pose\n",
    "        )\n",
    "    plant.Finalize()\n",
    "\n",
    "    to_pose = builder.AddSystem(MultibodyPositionToGeometryPose(plant))\n",
    "    builder.Connect(\n",
    "        to_pose.get_output_port(),\n",
    "        scene_graph.get_source_pose_port(plant.get_source_id()),\n",
    "    )\n",
    "\n",
    "    traj_to_position = builder.AddSystem(\n",
    "        GripperTrajectoriesToPosition(plant, traj_p_G, traj_R_G, traj_wsg_command)\n",
    "    )\n",
    "    builder.Connect(traj_to_position.get_output_port(), to_pose.get_input_port())\n",
    "\n",
    "    meshcat.Delete()\n",
    "    MeshcatVisualizer.AddToBuilder(builder, scene_graph, meshcat)\n",
    "\n",
    "    diagram = builder.Build()\n",
    "\n",
    "    simulator = Simulator(diagram)\n",
    "    meshcat.StartRecording(set_visualizations_while_recording=False)\n",
    "    simulator.AdvanceTo(traj_p_G.end_time() if running_as_notebook else 0.1)\n",
    "    meshcat.PublishRecording()\n",
    "\n",
    "\n",
    "visualize_pick_and_place_trajectory(traj_p_G, traj_R_G, traj_wsg_command, X_O)"
   ]
  },
  {
   "cell_type": "markdown",
   "id": "d453dbb8",
   "metadata": {
    "colab_type": "text",
    "id": "ue9ofS7GHpXr"
   },
   "source": [
    "# Putting it all together\n",
    "\n",
    "In the visualization above, we animated the plan, but did not actually command the robot!  Let's put our grasping trajectories back together with our Jacobian-based controller.\n",
    "\n",
    "The first thing you might have noticed is that the Jacobian controller takes spatial velocities as input.  But so far we have trajectories for positions and orientations.  Let's differentiate them to get the velocities."
   ]
  },
  {
   "cell_type": "code",
   "execution_count": 26,
   "id": "06495752",
   "metadata": {
    "colab": {},
    "colab_type": "code",
    "id": "MfaCoTnNXfjj"
   },
   "outputs": [
    {
     "name": "stderr",
     "output_type": "stream",
     "text": [
      "/home/shreyas/virtualenvs/drake_env/lib/python3.12/site-packages/mpld3/mplexporter/utils.py:300: MatplotlibDeprecationWarning: The converter attribute was deprecated in Matplotlib 3.10 and will be removed in 3.12. Use get_converter and set_converter methods instead.\n",
      "  isinstance(axis.converter, matplotlib.dates._SwitchableDateConverter)\n",
      "/home/shreyas/virtualenvs/drake_env/lib/python3.12/site-packages/mpld3/mplexporter/utils.py:303: MatplotlibDeprecationWarning: The converter attribute was deprecated in Matplotlib 3.10 and will be removed in 3.12. Use get_converter and set_converter methods instead.\n",
      "  isinstance(axis.converter, matplotlib.dates.DateConverter)\n",
      "/home/shreyas/virtualenvs/drake_env/lib/python3.12/site-packages/mpld3/mplexporter/utils.py:306: MatplotlibDeprecationWarning: The converter attribute was deprecated in Matplotlib 3.10 and will be removed in 3.12. Use get_converter and set_converter methods instead.\n",
      "  isinstance(axis.converter, matplotlib.dates.ConciseDateConverter)\n",
      "/home/shreyas/virtualenvs/drake_env/lib/python3.12/site-packages/mpld3/mplexporter/utils.py:300: MatplotlibDeprecationWarning: The converter attribute was deprecated in Matplotlib 3.10 and will be removed in 3.12. Use get_converter and set_converter methods instead.\n",
      "  isinstance(axis.converter, matplotlib.dates._SwitchableDateConverter)\n",
      "/home/shreyas/virtualenvs/drake_env/lib/python3.12/site-packages/mpld3/mplexporter/utils.py:303: MatplotlibDeprecationWarning: The converter attribute was deprecated in Matplotlib 3.10 and will be removed in 3.12. Use get_converter and set_converter methods instead.\n",
      "  isinstance(axis.converter, matplotlib.dates.DateConverter)\n",
      "/home/shreyas/virtualenvs/drake_env/lib/python3.12/site-packages/mpld3/mplexporter/utils.py:306: MatplotlibDeprecationWarning: The converter attribute was deprecated in Matplotlib 3.10 and will be removed in 3.12. Use get_converter and set_converter methods instead.\n",
      "  isinstance(axis.converter, matplotlib.dates.ConciseDateConverter)\n"
     ]
    },
    {
     "data": {
      "text/html": [
       "\n",
       "\n",
       "<style>\n",
       "\n",
       "</style>\n",
       "\n",
       "<div id=\"fig_el1347241311571714814563969019606\"></div>\n",
       "<script>\n",
       "function mpld3_load_lib(url, callback){\n",
       "  var s = document.createElement('script');\n",
       "  s.src = url;\n",
       "  s.async = true;\n",
       "  s.onreadystatechange = s.onload = callback;\n",
       "  s.onerror = function(){console.warn(\"failed to load library \" + url);};\n",
       "  document.getElementsByTagName(\"head\")[0].appendChild(s);\n",
       "}\n",
       "\n",
       "if(typeof(mpld3) !== \"undefined\" && mpld3._mpld3IsLoaded){\n",
       "   // already loaded: just create the figure\n",
       "   !function(mpld3){\n",
       "       \n",
       "       mpld3.draw_figure(\"fig_el1347241311571714814563969019606\", {\"width\": 640.0, \"height\": 480.0, \"axes\": [{\"bbox\": [0.125, 0.10999999999999999, 0.775, 0.77], \"xlim\": [-1.5450110374659127, 32.44523178678417], \"ylim\": [-0.10090127585807394, 0.0784756516748128], \"xdomain\": [-1.5450110374659127, 32.44523178678417], \"ydomain\": [-0.10090127585807394, 0.0784756516748128], \"xscale\": \"linear\", \"yscale\": \"linear\", \"axes\": [{\"position\": \"bottom\", \"nticks\": 9, \"tickvalues\": null, \"tickformat_formatter\": \"\", \"tickformat\": null, \"scale\": \"linear\", \"fontsize\": 10.0, \"grid\": {\"gridOn\": false}, \"visible\": true}, {\"position\": \"left\", \"nticks\": 11, \"tickvalues\": null, \"tickformat_formatter\": \"\", \"tickformat\": null, \"scale\": \"linear\", \"fontsize\": 10.0, \"grid\": {\"gridOn\": false}, \"visible\": true}], \"axesbg\": \"#FFFFFF\", \"axesbgalpha\": null, \"zoomable\": true, \"id\": \"el134724131157171513120\", \"lines\": [{\"data\": \"data01\", \"xindex\": 0, \"yindex\": 1, \"coordinates\": \"data\", \"id\": \"el134724131157035009040\", \"color\": \"#1F77B4\", \"linewidth\": 1.5, \"dasharray\": \"none\", \"alpha\": 1, \"zorder\": 2, \"drawstyle\": \"default\"}, {\"data\": \"data01\", \"xindex\": 0, \"yindex\": 2, \"coordinates\": \"data\", \"id\": \"el134724131157035009088\", \"color\": \"#FF7F0E\", \"linewidth\": 1.5, \"dasharray\": \"none\", \"alpha\": 1, \"zorder\": 2, \"drawstyle\": \"default\"}, {\"data\": \"data01\", \"xindex\": 0, \"yindex\": 3, \"coordinates\": \"data\", \"id\": \"el134724131157035009376\", \"color\": \"#2CA02C\", \"linewidth\": 1.5, \"dasharray\": \"none\", \"alpha\": 1, \"zorder\": 2, \"drawstyle\": \"default\"}, {\"data\": \"data02\", \"xindex\": 0, \"yindex\": 1, \"coordinates\": \"axes\", \"id\": \"el134724131157035010864\", \"color\": \"#1F77B4\", \"linewidth\": 1.5, \"dasharray\": \"none\", \"alpha\": 1, \"zorder\": 1000002.0, \"drawstyle\": \"default\"}, {\"data\": \"data02\", \"xindex\": 0, \"yindex\": 2, \"coordinates\": \"axes\", \"id\": \"el134724131157035012112\", \"color\": \"#FF7F0E\", \"linewidth\": 1.5, \"dasharray\": \"none\", \"alpha\": 1, \"zorder\": 1000002.0, \"drawstyle\": \"default\"}, {\"data\": \"data02\", \"xindex\": 0, \"yindex\": 3, \"coordinates\": \"axes\", \"id\": \"el134724131157035013504\", \"color\": \"#2CA02C\", \"linewidth\": 1.5, \"dasharray\": \"none\", \"alpha\": 1, \"zorder\": 1000002.0, \"drawstyle\": \"default\"}], \"paths\": [{\"data\": \"data03\", \"xindex\": 0, \"yindex\": 1, \"coordinates\": \"axes\", \"pathcodes\": [\"M\", \"L\", \"S\", \"L\", \"S\", \"L\", \"S\", \"L\", \"S\", \"Z\"], \"id\": \"el134724131157150482160\", \"dasharray\": \"none\", \"alpha\": 0.8, \"facecolor\": \"rgba(255, 255, 255, 0.8)\", \"edgecolor\": \"rgba(204, 204, 204, 0.8)\", \"edgewidth\": 1.0, \"zorder\": 1000000.0}], \"markers\": [], \"texts\": [{\"text\": \"v_G\", \"position\": [0.5, 1.0225468975468974], \"coordinates\": \"axes\", \"h_anchor\": \"middle\", \"v_baseline\": \"auto\", \"rotation\": -0.0, \"fontsize\": 12.0, \"color\": \"#000000\", \"alpha\": 1, \"zorder\": 3, \"id\": \"el134724131157171474832\"}, {\"text\": \"vx\", \"position\": [0.9415322580645161, 0.9364177489177489], \"coordinates\": \"axes\", \"h_anchor\": \"start\", \"v_baseline\": \"auto\", \"rotation\": -0.0, \"fontsize\": 10.0, \"color\": \"#000000\", \"alpha\": 1, \"zorder\": 1000003.0, \"id\": \"el134724131157150280656\"}, {\"text\": \"vy\", \"position\": [0.9415322580645161, 0.8797498797498798], \"coordinates\": \"axes\", \"h_anchor\": \"start\", \"v_baseline\": \"auto\", \"rotation\": -0.0, \"fontsize\": 10.0, \"color\": \"#000000\", \"alpha\": 1, \"zorder\": 1000003.0, \"id\": \"el134724131157035011440\"}, {\"text\": \"vz\", \"position\": [0.9415322580645161, 0.8230820105820105], \"coordinates\": \"axes\", \"h_anchor\": \"start\", \"v_baseline\": \"auto\", \"rotation\": -0.0, \"fontsize\": 10.0, \"color\": \"#000000\", \"alpha\": 1, \"zorder\": 1000003.0, \"id\": \"el134724131157035012832\"}], \"collections\": [], \"images\": [], \"sharex\": [], \"sharey\": []}], \"data\": {\"data01\": [[0.0, -0.03709911166081346, -0.09274777915203364, -0.004637388957601686], [5.390964663211957, 0.0, 0.0, -0.039999999999999994], [7.390964663211957, 0.0, 0.0, 0.0], [9.390964663211957, 0.0, 0.0, 0.039999999999999994], [11.390964663211957, 0.07032215496877249, 0.05551749076482039, 0.0444139926118563], [18.145592706265106, 0.07032215496877249, 0.05551749076482039, -0.0444139926118563], [24.900220749318255, 0.0, 1.4997597826618574e-34, -0.039999999999999994], [26.900220749318255, 0.0, 0.0, 0.0], [28.900220749318255, 0.0, -1.4997597826618574e-34, 0.039999999999999994], [30.900220749318255, 0.0, -1.4997597826618574e-34, 0.039999999999999994]], \"data02\": [[0.8631272401433691, 0.9495701058201058, 0.8929022366522368, 0.8362343674843674], [0.8911290322580644, 0.9495701058201058, 0.8929022366522368, 0.8362343674843674], [0.9191308243727597, 0.9495701058201058, 0.8929022366522368, 0.8362343674843674]], \"data03\": [[0.8575268817204301, 0.7999338624338624], [0.9803987455197131, 0.7999338624338624], [0.9859991039426522, 0.7999338624338624], [0.9859991039426522, 0.8074494949494949], [0.9859991039426522, 0.9736952861952862], [0.9859991039426522, 0.9812109187109187], [0.9803987455197131, 0.9812109187109187], [0.8575268817204301, 0.9812109187109187], [0.851926523297491, 0.9812109187109187], [0.851926523297491, 0.9736952861952862], [0.851926523297491, 0.8074494949494949], [0.851926523297491, 0.7999338624338624], [0.8575268817204301, 0.7999338624338624]]}, \"id\": \"el134724131157171481456\", \"plugins\": [{\"type\": \"reset\"}, {\"type\": \"zoom\", \"button\": true, \"enabled\": false}, {\"type\": \"boxzoom\", \"button\": true, \"enabled\": false}]});\n",
       "   }(mpld3);\n",
       "}else if(typeof define === \"function\" && define.amd){\n",
       "   // require.js is available: use it to load d3/mpld3\n",
       "   require.config({paths: {d3: \"https://d3js.org/d3.v5\"}});\n",
       "   require([\"d3\"], function(d3){\n",
       "      window.d3 = d3;\n",
       "      mpld3_load_lib(\"https://mpld3.github.io/js/mpld3.v0.5.10.js\", function(){\n",
       "         \n",
       "         mpld3.draw_figure(\"fig_el1347241311571714814563969019606\", {\"width\": 640.0, \"height\": 480.0, \"axes\": [{\"bbox\": [0.125, 0.10999999999999999, 0.775, 0.77], \"xlim\": [-1.5450110374659127, 32.44523178678417], \"ylim\": [-0.10090127585807394, 0.0784756516748128], \"xdomain\": [-1.5450110374659127, 32.44523178678417], \"ydomain\": [-0.10090127585807394, 0.0784756516748128], \"xscale\": \"linear\", \"yscale\": \"linear\", \"axes\": [{\"position\": \"bottom\", \"nticks\": 9, \"tickvalues\": null, \"tickformat_formatter\": \"\", \"tickformat\": null, \"scale\": \"linear\", \"fontsize\": 10.0, \"grid\": {\"gridOn\": false}, \"visible\": true}, {\"position\": \"left\", \"nticks\": 11, \"tickvalues\": null, \"tickformat_formatter\": \"\", \"tickformat\": null, \"scale\": \"linear\", \"fontsize\": 10.0, \"grid\": {\"gridOn\": false}, \"visible\": true}], \"axesbg\": \"#FFFFFF\", \"axesbgalpha\": null, \"zoomable\": true, \"id\": \"el134724131157171513120\", \"lines\": [{\"data\": \"data01\", \"xindex\": 0, \"yindex\": 1, \"coordinates\": \"data\", \"id\": \"el134724131157035009040\", \"color\": \"#1F77B4\", \"linewidth\": 1.5, \"dasharray\": \"none\", \"alpha\": 1, \"zorder\": 2, \"drawstyle\": \"default\"}, {\"data\": \"data01\", \"xindex\": 0, \"yindex\": 2, \"coordinates\": \"data\", \"id\": \"el134724131157035009088\", \"color\": \"#FF7F0E\", \"linewidth\": 1.5, \"dasharray\": \"none\", \"alpha\": 1, \"zorder\": 2, \"drawstyle\": \"default\"}, {\"data\": \"data01\", \"xindex\": 0, \"yindex\": 3, \"coordinates\": \"data\", \"id\": \"el134724131157035009376\", \"color\": \"#2CA02C\", \"linewidth\": 1.5, \"dasharray\": \"none\", \"alpha\": 1, \"zorder\": 2, \"drawstyle\": \"default\"}, {\"data\": \"data02\", \"xindex\": 0, \"yindex\": 1, \"coordinates\": \"axes\", \"id\": \"el134724131157035010864\", \"color\": \"#1F77B4\", \"linewidth\": 1.5, \"dasharray\": \"none\", \"alpha\": 1, \"zorder\": 1000002.0, \"drawstyle\": \"default\"}, {\"data\": \"data02\", \"xindex\": 0, \"yindex\": 2, \"coordinates\": \"axes\", \"id\": \"el134724131157035012112\", \"color\": \"#FF7F0E\", \"linewidth\": 1.5, \"dasharray\": \"none\", \"alpha\": 1, \"zorder\": 1000002.0, \"drawstyle\": \"default\"}, {\"data\": \"data02\", \"xindex\": 0, \"yindex\": 3, \"coordinates\": \"axes\", \"id\": \"el134724131157035013504\", \"color\": \"#2CA02C\", \"linewidth\": 1.5, \"dasharray\": \"none\", \"alpha\": 1, \"zorder\": 1000002.0, \"drawstyle\": \"default\"}], \"paths\": [{\"data\": \"data03\", \"xindex\": 0, \"yindex\": 1, \"coordinates\": \"axes\", \"pathcodes\": [\"M\", \"L\", \"S\", \"L\", \"S\", \"L\", \"S\", \"L\", \"S\", \"Z\"], \"id\": \"el134724131157150482160\", \"dasharray\": \"none\", \"alpha\": 0.8, \"facecolor\": \"rgba(255, 255, 255, 0.8)\", \"edgecolor\": \"rgba(204, 204, 204, 0.8)\", \"edgewidth\": 1.0, \"zorder\": 1000000.0}], \"markers\": [], \"texts\": [{\"text\": \"v_G\", \"position\": [0.5, 1.0225468975468974], \"coordinates\": \"axes\", \"h_anchor\": \"middle\", \"v_baseline\": \"auto\", \"rotation\": -0.0, \"fontsize\": 12.0, \"color\": \"#000000\", \"alpha\": 1, \"zorder\": 3, \"id\": \"el134724131157171474832\"}, {\"text\": \"vx\", \"position\": [0.9415322580645161, 0.9364177489177489], \"coordinates\": \"axes\", \"h_anchor\": \"start\", \"v_baseline\": \"auto\", \"rotation\": -0.0, \"fontsize\": 10.0, \"color\": \"#000000\", \"alpha\": 1, \"zorder\": 1000003.0, \"id\": \"el134724131157150280656\"}, {\"text\": \"vy\", \"position\": [0.9415322580645161, 0.8797498797498798], \"coordinates\": \"axes\", \"h_anchor\": \"start\", \"v_baseline\": \"auto\", \"rotation\": -0.0, \"fontsize\": 10.0, \"color\": \"#000000\", \"alpha\": 1, \"zorder\": 1000003.0, \"id\": \"el134724131157035011440\"}, {\"text\": \"vz\", \"position\": [0.9415322580645161, 0.8230820105820105], \"coordinates\": \"axes\", \"h_anchor\": \"start\", \"v_baseline\": \"auto\", \"rotation\": -0.0, \"fontsize\": 10.0, \"color\": \"#000000\", \"alpha\": 1, \"zorder\": 1000003.0, \"id\": \"el134724131157035012832\"}], \"collections\": [], \"images\": [], \"sharex\": [], \"sharey\": []}], \"data\": {\"data01\": [[0.0, -0.03709911166081346, -0.09274777915203364, -0.004637388957601686], [5.390964663211957, 0.0, 0.0, -0.039999999999999994], [7.390964663211957, 0.0, 0.0, 0.0], [9.390964663211957, 0.0, 0.0, 0.039999999999999994], [11.390964663211957, 0.07032215496877249, 0.05551749076482039, 0.0444139926118563], [18.145592706265106, 0.07032215496877249, 0.05551749076482039, -0.0444139926118563], [24.900220749318255, 0.0, 1.4997597826618574e-34, -0.039999999999999994], [26.900220749318255, 0.0, 0.0, 0.0], [28.900220749318255, 0.0, -1.4997597826618574e-34, 0.039999999999999994], [30.900220749318255, 0.0, -1.4997597826618574e-34, 0.039999999999999994]], \"data02\": [[0.8631272401433691, 0.9495701058201058, 0.8929022366522368, 0.8362343674843674], [0.8911290322580644, 0.9495701058201058, 0.8929022366522368, 0.8362343674843674], [0.9191308243727597, 0.9495701058201058, 0.8929022366522368, 0.8362343674843674]], \"data03\": [[0.8575268817204301, 0.7999338624338624], [0.9803987455197131, 0.7999338624338624], [0.9859991039426522, 0.7999338624338624], [0.9859991039426522, 0.8074494949494949], [0.9859991039426522, 0.9736952861952862], [0.9859991039426522, 0.9812109187109187], [0.9803987455197131, 0.9812109187109187], [0.8575268817204301, 0.9812109187109187], [0.851926523297491, 0.9812109187109187], [0.851926523297491, 0.9736952861952862], [0.851926523297491, 0.8074494949494949], [0.851926523297491, 0.7999338624338624], [0.8575268817204301, 0.7999338624338624]]}, \"id\": \"el134724131157171481456\", \"plugins\": [{\"type\": \"reset\"}, {\"type\": \"zoom\", \"button\": true, \"enabled\": false}, {\"type\": \"boxzoom\", \"button\": true, \"enabled\": false}]});\n",
       "      });\n",
       "    });\n",
       "}else{\n",
       "    // require.js not available: dynamically load d3 & mpld3\n",
       "    mpld3_load_lib(\"https://d3js.org/d3.v5.js\", function(){\n",
       "         mpld3_load_lib(\"https://mpld3.github.io/js/mpld3.v0.5.10.js\", function(){\n",
       "                 \n",
       "                 mpld3.draw_figure(\"fig_el1347241311571714814563969019606\", {\"width\": 640.0, \"height\": 480.0, \"axes\": [{\"bbox\": [0.125, 0.10999999999999999, 0.775, 0.77], \"xlim\": [-1.5450110374659127, 32.44523178678417], \"ylim\": [-0.10090127585807394, 0.0784756516748128], \"xdomain\": [-1.5450110374659127, 32.44523178678417], \"ydomain\": [-0.10090127585807394, 0.0784756516748128], \"xscale\": \"linear\", \"yscale\": \"linear\", \"axes\": [{\"position\": \"bottom\", \"nticks\": 9, \"tickvalues\": null, \"tickformat_formatter\": \"\", \"tickformat\": null, \"scale\": \"linear\", \"fontsize\": 10.0, \"grid\": {\"gridOn\": false}, \"visible\": true}, {\"position\": \"left\", \"nticks\": 11, \"tickvalues\": null, \"tickformat_formatter\": \"\", \"tickformat\": null, \"scale\": \"linear\", \"fontsize\": 10.0, \"grid\": {\"gridOn\": false}, \"visible\": true}], \"axesbg\": \"#FFFFFF\", \"axesbgalpha\": null, \"zoomable\": true, \"id\": \"el134724131157171513120\", \"lines\": [{\"data\": \"data01\", \"xindex\": 0, \"yindex\": 1, \"coordinates\": \"data\", \"id\": \"el134724131157035009040\", \"color\": \"#1F77B4\", \"linewidth\": 1.5, \"dasharray\": \"none\", \"alpha\": 1, \"zorder\": 2, \"drawstyle\": \"default\"}, {\"data\": \"data01\", \"xindex\": 0, \"yindex\": 2, \"coordinates\": \"data\", \"id\": \"el134724131157035009088\", \"color\": \"#FF7F0E\", \"linewidth\": 1.5, \"dasharray\": \"none\", \"alpha\": 1, \"zorder\": 2, \"drawstyle\": \"default\"}, {\"data\": \"data01\", \"xindex\": 0, \"yindex\": 3, \"coordinates\": \"data\", \"id\": \"el134724131157035009376\", \"color\": \"#2CA02C\", \"linewidth\": 1.5, \"dasharray\": \"none\", \"alpha\": 1, \"zorder\": 2, \"drawstyle\": \"default\"}, {\"data\": \"data02\", \"xindex\": 0, \"yindex\": 1, \"coordinates\": \"axes\", \"id\": \"el134724131157035010864\", \"color\": \"#1F77B4\", \"linewidth\": 1.5, \"dasharray\": \"none\", \"alpha\": 1, \"zorder\": 1000002.0, \"drawstyle\": \"default\"}, {\"data\": \"data02\", \"xindex\": 0, \"yindex\": 2, \"coordinates\": \"axes\", \"id\": \"el134724131157035012112\", \"color\": \"#FF7F0E\", \"linewidth\": 1.5, \"dasharray\": \"none\", \"alpha\": 1, \"zorder\": 1000002.0, \"drawstyle\": \"default\"}, {\"data\": \"data02\", \"xindex\": 0, \"yindex\": 3, \"coordinates\": \"axes\", \"id\": \"el134724131157035013504\", \"color\": \"#2CA02C\", \"linewidth\": 1.5, \"dasharray\": \"none\", \"alpha\": 1, \"zorder\": 1000002.0, \"drawstyle\": \"default\"}], \"paths\": [{\"data\": \"data03\", \"xindex\": 0, \"yindex\": 1, \"coordinates\": \"axes\", \"pathcodes\": [\"M\", \"L\", \"S\", \"L\", \"S\", \"L\", \"S\", \"L\", \"S\", \"Z\"], \"id\": \"el134724131157150482160\", \"dasharray\": \"none\", \"alpha\": 0.8, \"facecolor\": \"rgba(255, 255, 255, 0.8)\", \"edgecolor\": \"rgba(204, 204, 204, 0.8)\", \"edgewidth\": 1.0, \"zorder\": 1000000.0}], \"markers\": [], \"texts\": [{\"text\": \"v_G\", \"position\": [0.5, 1.0225468975468974], \"coordinates\": \"axes\", \"h_anchor\": \"middle\", \"v_baseline\": \"auto\", \"rotation\": -0.0, \"fontsize\": 12.0, \"color\": \"#000000\", \"alpha\": 1, \"zorder\": 3, \"id\": \"el134724131157171474832\"}, {\"text\": \"vx\", \"position\": [0.9415322580645161, 0.9364177489177489], \"coordinates\": \"axes\", \"h_anchor\": \"start\", \"v_baseline\": \"auto\", \"rotation\": -0.0, \"fontsize\": 10.0, \"color\": \"#000000\", \"alpha\": 1, \"zorder\": 1000003.0, \"id\": \"el134724131157150280656\"}, {\"text\": \"vy\", \"position\": [0.9415322580645161, 0.8797498797498798], \"coordinates\": \"axes\", \"h_anchor\": \"start\", \"v_baseline\": \"auto\", \"rotation\": -0.0, \"fontsize\": 10.0, \"color\": \"#000000\", \"alpha\": 1, \"zorder\": 1000003.0, \"id\": \"el134724131157035011440\"}, {\"text\": \"vz\", \"position\": [0.9415322580645161, 0.8230820105820105], \"coordinates\": \"axes\", \"h_anchor\": \"start\", \"v_baseline\": \"auto\", \"rotation\": -0.0, \"fontsize\": 10.0, \"color\": \"#000000\", \"alpha\": 1, \"zorder\": 1000003.0, \"id\": \"el134724131157035012832\"}], \"collections\": [], \"images\": [], \"sharex\": [], \"sharey\": []}], \"data\": {\"data01\": [[0.0, -0.03709911166081346, -0.09274777915203364, -0.004637388957601686], [5.390964663211957, 0.0, 0.0, -0.039999999999999994], [7.390964663211957, 0.0, 0.0, 0.0], [9.390964663211957, 0.0, 0.0, 0.039999999999999994], [11.390964663211957, 0.07032215496877249, 0.05551749076482039, 0.0444139926118563], [18.145592706265106, 0.07032215496877249, 0.05551749076482039, -0.0444139926118563], [24.900220749318255, 0.0, 1.4997597826618574e-34, -0.039999999999999994], [26.900220749318255, 0.0, 0.0, 0.0], [28.900220749318255, 0.0, -1.4997597826618574e-34, 0.039999999999999994], [30.900220749318255, 0.0, -1.4997597826618574e-34, 0.039999999999999994]], \"data02\": [[0.8631272401433691, 0.9495701058201058, 0.8929022366522368, 0.8362343674843674], [0.8911290322580644, 0.9495701058201058, 0.8929022366522368, 0.8362343674843674], [0.9191308243727597, 0.9495701058201058, 0.8929022366522368, 0.8362343674843674]], \"data03\": [[0.8575268817204301, 0.7999338624338624], [0.9803987455197131, 0.7999338624338624], [0.9859991039426522, 0.7999338624338624], [0.9859991039426522, 0.8074494949494949], [0.9859991039426522, 0.9736952861952862], [0.9859991039426522, 0.9812109187109187], [0.9803987455197131, 0.9812109187109187], [0.8575268817204301, 0.9812109187109187], [0.851926523297491, 0.9812109187109187], [0.851926523297491, 0.9736952861952862], [0.851926523297491, 0.8074494949494949], [0.851926523297491, 0.7999338624338624], [0.8575268817204301, 0.7999338624338624]]}, \"id\": \"el134724131157171481456\", \"plugins\": [{\"type\": \"reset\"}, {\"type\": \"zoom\", \"button\": true, \"enabled\": false}, {\"type\": \"boxzoom\", \"button\": true, \"enabled\": false}]});\n",
       "            })\n",
       "         });\n",
       "}\n",
       "</script>"
      ],
      "text/plain": [
       "<IPython.core.display.HTML object>"
      ]
     },
     "execution_count": 26,
     "metadata": {},
     "output_type": "execute_result"
    }
   ],
   "source": [
    "traj_v_G = traj_p_G.MakeDerivative()\n",
    "\n",
    "v_G = traj_v_G.vector_values(traj_v_G.get_segment_times())\n",
    "plt.plot(traj_v_G.get_segment_times(), v_G.T)\n",
    "plt.legend([\"vx\", \"vy\", \"vz\"])\n",
    "plt.title(\"v_G\")\n",
    "mpld3.display()"
   ]
  },
  {
   "cell_type": "markdown",
   "id": "1feebfc5",
   "metadata": {
    "colab_type": "text",
    "id": "BrDNL8cvMo_o"
   },
   "source": [
    "Now we need a slightly modified version of our Jacobian controller, which can take the spatial velocity commands from an input port."
   ]
  },
  {
   "cell_type": "code",
   "execution_count": 27,
   "id": "78e66f80",
   "metadata": {
    "colab": {},
    "colab_type": "code",
    "id": "nVKlTQKGKUU0"
   },
   "outputs": [],
   "source": [
    "class PseudoInverseController(LeafSystem):\n",
    "    def __init__(self, plant):\n",
    "        LeafSystem.__init__(self)\n",
    "        self._plant = plant\n",
    "        self._plant_context = plant.CreateDefaultContext()\n",
    "        self._iiwa = plant.GetModelInstanceByName(\"iiwa\")\n",
    "        self._G = plant.GetBodyByName(\"body\").body_frame()\n",
    "        self._W = plant.world_frame()\n",
    "\n",
    "        self.V_G_port = self.DeclareVectorInputPort(\"V_WG\", 6)\n",
    "        self.q_port = self.DeclareVectorInputPort(\"iiwa.position\", 7)\n",
    "        self.DeclareVectorOutputPort(\"iiwa.velocity\", 7, self.CalcOutput)\n",
    "        self.iiwa_start = plant.GetJointByName(\"iiwa_joint_1\").velocity_start()\n",
    "        self.iiwa_end = plant.GetJointByName(\"iiwa_joint_7\").velocity_start()\n",
    "\n",
    "    def CalcOutput(self, context, output):\n",
    "        V_G = self.V_G_port.Eval(context)\n",
    "        q = self.q_port.Eval(context)\n",
    "        self._plant.SetPositions(self._plant_context, self._iiwa, q)\n",
    "        J_G = self._plant.CalcJacobianSpatialVelocity(\n",
    "            self._plant_context,\n",
    "            JacobianWrtVariable.kV,\n",
    "            self._G,\n",
    "            [0, 0, 0],\n",
    "            self._W,\n",
    "            self._W,\n",
    "        )\n",
    "        J_G = J_G[:, self.iiwa_start : self.iiwa_end + 1]  # Only iiwa terms.\n",
    "        v = np.linalg.pinv(J_G).dot(V_G)\n",
    "        output.SetFromVector(v)"
   ]
  },
  {
   "cell_type": "markdown",
   "id": "057a8f3c",
   "metadata": {
    "colab_type": "text",
    "id": "uM1pk1zzN9D3"
   },
   "source": [
    "Oh, boy.  Big moment.  I'm excited... are you?  Let's do this thing!"
   ]
  },
  {
   "cell_type": "code",
   "execution_count": 28,
   "id": "0e2c1e69",
   "metadata": {
    "colab": {},
    "colab_type": "code",
    "id": "hDrXl1oSNt6u"
   },
   "outputs": [
    {
     "name": "stdout",
     "output_type": "stream",
     "text": [
      "Sanity check: The entire maneuver will take 26.826891105934223 seconds to execute.\n"
     ]
    }
   ],
   "source": [
    "X_O = {\n",
    "    \"initial\": RigidTransform(\n",
    "        RotationMatrix.MakeZRotation(np.pi / 2.0), [0, -0.6, 0.0]\n",
    "    ),\n",
    "    \"goal\": RigidTransform(RotationMatrix.MakeZRotation(np.pi), [0.5, 0, 0.0]),\n",
    "}\n",
    "\n",
    "meshcat.Delete()\n",
    "builder = DiagramBuilder()\n",
    "\n",
    "scenario_data = \"\"\"\n",
    "directives:\n",
    "- add_directives:\n",
    "    file: package://manipulation/clutter.dmd.yaml\n",
    "- add_model:\n",
    "    name: foam_brick\n",
    "    file: package://manipulation/hydro/061_foam_brick.sdf\n",
    "model_drivers:\n",
    "    iiwa: !IiwaDriver\n",
    "      control_mode: position_only\n",
    "      hand_model_name: wsg\n",
    "    wsg: !SchunkWsgDriver {}\n",
    "\"\"\"\n",
    "\n",
    "scenario = LoadScenario(data=scenario_data)\n",
    "station = builder.AddSystem(MakeHardwareStation(scenario, meshcat=meshcat))\n",
    "plant = station.GetSubsystemByName(\"plant\")\n",
    "plant.SetDefaultFreeBodyPose(plant.GetBodyByName(\"base_link\"), X_O[\"initial\"])\n",
    "\n",
    "# Find the initial pose of the gripper and object (as set in the default Context)\n",
    "temp_context = station.CreateDefaultContext()\n",
    "temp_plant_context = plant.GetMyContextFromRoot(temp_context)\n",
    "X_G = {\n",
    "    \"initial\": plant.EvalBodyPoseInWorld(\n",
    "        temp_plant_context, plant.GetBodyByName(\"body\")\n",
    "    )\n",
    "}\n",
    "X_O[\"initial\"] = plant.EvalBodyPoseInWorld(\n",
    "    temp_plant_context, plant.GetBodyByName(\"base_link\")\n",
    ")\n",
    "X_G, times = MakeGripperFrames(X_G, X_O)\n",
    "print(\n",
    "    f\"Sanity check: The entire maneuver will take {times['postplace']} seconds to execute.\"\n",
    ")\n",
    "\n",
    "# Make the trajectories\n",
    "traj = MakeGripperPoseTrajectory(X_G, times)\n",
    "traj_V_G = traj.MakeDerivative()\n",
    "\n",
    "V_G_source = builder.AddSystem(TrajectorySource(traj_V_G))\n",
    "V_G_source.set_name(\"v_WG\")\n",
    "controller = builder.AddSystem(PseudoInverseController(plant))\n",
    "controller.set_name(\"PseudoInverseController\")\n",
    "builder.Connect(V_G_source.get_output_port(), controller.GetInputPort(\"V_WG\"))\n",
    "\n",
    "integrator = builder.AddSystem(Integrator(7))\n",
    "integrator.set_name(\"integrator\")\n",
    "builder.Connect(controller.get_output_port(), integrator.get_input_port())\n",
    "builder.Connect(integrator.get_output_port(), station.GetInputPort(\"iiwa.position\"))\n",
    "builder.Connect(\n",
    "    station.GetOutputPort(\"iiwa.position_measured\"),\n",
    "    controller.GetInputPort(\"iiwa.position\"),\n",
    ")\n",
    "\n",
    "traj_wsg_command = MakeGripperCommandTrajectory(times)\n",
    "wsg_source = builder.AddSystem(TrajectorySource(traj_wsg_command))\n",
    "wsg_source.set_name(\"wsg.command\")\n",
    "builder.Connect(wsg_source.get_output_port(), station.GetInputPort(\"wsg.position\"))\n",
    "\n",
    "diagram = builder.Build()\n",
    "diagram.set_name(\"pick_and_place\")\n",
    "\n",
    "simulator = Simulator(diagram)\n",
    "context = simulator.get_mutable_context()\n",
    "station_context = station.GetMyContextFromRoot(context)\n",
    "integrator.set_integral_value(\n",
    "    integrator.GetMyContextFromRoot(context),\n",
    "    plant.GetPositions(\n",
    "        plant.GetMyContextFromRoot(context),\n",
    "        plant.GetModelInstanceByName(\"iiwa\"),\n",
    "    ),\n",
    ")\n",
    "\n",
    "diagram.ForcedPublish(context)\n",
    "meshcat.StartRecording()\n",
    "simulator.AdvanceTo(traj_p_G.end_time() if running_as_notebook else 0.1)\n",
    "meshcat.PublishRecording()"
   ]
  },
  {
   "cell_type": "markdown",
   "id": "bef77623",
   "metadata": {
    "colab_type": "text",
    "id": "AeKMhIacWZ00"
   },
   "source": [
    "That's quite some diagram we've assembled.  Do you understand all of the parts?"
   ]
  },
  {
   "cell_type": "code",
   "execution_count": 29,
   "id": "9d62f8bf",
   "metadata": {
    "colab": {},
    "colab_type": "code",
    "id": "ZWXemy-bUAab"
   },
   "outputs": [
    {
     "data": {
      "image/svg+xml": [
       "<svg xmlns=\"http://www.w3.org/2000/svg\" xmlns:xlink=\"http://www.w3.org/1999/xlink\" width=\"1349pt\" height=\"1336pt\" viewBox=\"0.00 0.00 1349.00 1336.00\">\n",
       "<g id=\"graph0\" class=\"graph\" transform=\"scale(1 1) rotate(0) translate(4 1332)\">\n",
       "<title>_32473</title>\n",
       "<polygon fill=\"white\" stroke=\"transparent\" points=\"-4,4 -4,-1332 1345,-1332 1345,4 -4,4\"/>\n",
       "<g id=\"clust1\" class=\"cluster\">\n",
       "<title>cluster32473diagram</title>\n",
       "<polygon fill=\"none\" stroke=\"black\" points=\"8,-8 8,-1320 1333,-1320 1333,-8 8,-8\"/>\n",
       "<text text-anchor=\"start\" x=\"636.5\" y=\"-1301.8\" font-family=\"Times,serif\" font-weight=\"bold\" font-size=\"14.00\">Diagram</text>\n",
       "<text text-anchor=\"start\" x=\"591.5\" y=\"-1287.8\" font-family=\"Times,serif\" font-size=\"14.00\">name=pick_and_place</text>\n",
       "</g>\n",
       "<g id=\"clust2\" class=\"cluster\">\n",
       "<title>cluster32473subsystems</title>\n",
       "<polygon fill=\"none\" stroke=\"white\" points=\"16,-16 16,-1268 1325,-1268 1325,-16 16,-16\"/>\n",
       "</g>\n",
       "<!-- s32407 -->\n",
       "<g id=\"node1\" class=\"node\">\n",
       "<title>s32407</title>\n",
       "<polygon fill=\"none\" stroke=\"black\" points=\"244,-1140 244,-1174 800,-1174 800,-1140 244,-1140\"/>\n",
       "<text text-anchor=\"start\" x=\"464.5\" y=\"-1160.8\" font-family=\"Times,serif\" font-weight=\"bold\" font-size=\"14.00\">RobotDiagram</text>\n",
       "<text text-anchor=\"start\" x=\"471.5\" y=\"-1146.8\" font-family=\"Times,serif\" font-size=\"14.00\">name=station</text>\n",
       "<polygon fill=\"none\" stroke=\"black\" points=\"244,-1119 244,-1140 436,-1140 436,-1119 244,-1119\"/>\n",
       "<text text-anchor=\"start\" x=\"294.5\" y=\"-1125.8\" font-family=\"Times,serif\" font-size=\"14.00\">iiwa.position</text>\n",
       "<polygon fill=\"none\" stroke=\"black\" points=\"436,-1119 436,-1140 800,-1140 800,-1119 436,-1119\"/>\n",
       "<text text-anchor=\"start\" x=\"567.5\" y=\"-1125.8\" font-family=\"Times,serif\" font-size=\"14.00\">iiwa.actuation</text>\n",
       "<polygon fill=\"none\" stroke=\"black\" points=\"244,-1098 244,-1119 436,-1119 436,-1098 244,-1098\"/>\n",
       "<text text-anchor=\"start\" x=\"294.5\" y=\"-1104.8\" font-family=\"Times,serif\" font-size=\"14.00\">wsg.position</text>\n",
       "<polygon fill=\"none\" stroke=\"black\" points=\"436,-1098 436,-1119 800,-1119 800,-1098 436,-1098\"/>\n",
       "<text text-anchor=\"start\" x=\"526\" y=\"-1104.8\" font-family=\"Times,serif\" font-size=\"14.00\">iiwa.position_commanded</text>\n",
       "<polygon fill=\"none\" stroke=\"black\" points=\"244,-1077 244,-1098 436,-1098 436,-1077 244,-1077\"/>\n",
       "<text text-anchor=\"start\" x=\"285.5\" y=\"-1083.8\" font-family=\"Times,serif\" font-size=\"14.00\">wsg.force_limit</text>\n",
       "<polygon fill=\"none\" stroke=\"black\" points=\"436,-1077 436,-1098 800,-1098 800,-1077 436,-1077\"/>\n",
       "<text text-anchor=\"start\" x=\"533.5\" y=\"-1083.8\" font-family=\"Times,serif\" font-size=\"14.00\">iiwa.position_measured</text>\n",
       "<polygon fill=\"none\" stroke=\"black\" points=\"244,-1056 244,-1077 436,-1077 436,-1056 244,-1056\"/>\n",
       "<text text-anchor=\"start\" x=\"247\" y=\"-1062.8\" font-family=\"Times,serif\" font-size=\"14.00\">applied_generalized_force</text>\n",
       "<polygon fill=\"none\" stroke=\"black\" points=\"436,-1056 436,-1077 800,-1077 800,-1056 436,-1056\"/>\n",
       "<text text-anchor=\"start\" x=\"534\" y=\"-1062.8\" font-family=\"Times,serif\" font-size=\"14.00\">iiwa.velocity_estimated</text>\n",
       "<polygon fill=\"none\" stroke=\"black\" points=\"244,-1035 244,-1056 436,-1056 436,-1035 244,-1035\"/>\n",
       "<text text-anchor=\"start\" x=\"264.5\" y=\"-1041.8\" font-family=\"Times,serif\" font-size=\"14.00\">applied_spatial_force</text>\n",
       "<polygon fill=\"none\" stroke=\"black\" points=\"436,-1035 436,-1056 800,-1056 800,-1035 436,-1035\"/>\n",
       "<text text-anchor=\"start\" x=\"544\" y=\"-1041.8\" font-family=\"Times,serif\" font-size=\"14.00\">iiwa.state_estimated</text>\n",
       "<polyline fill=\"none\" stroke=\"grey\" points=\"244,-1035 244,-27 436,-27 \"/>\n",
       "<polygon fill=\"none\" stroke=\"black\" points=\"436,-1014 436,-1035 800,-1035 800,-1014 436,-1014\"/>\n",
       "<text text-anchor=\"start\" x=\"530.5\" y=\"-1020.8\" font-family=\"Times,serif\" font-size=\"14.00\">iiwa.torque_commanded</text>\n",
       "<polygon fill=\"none\" stroke=\"black\" points=\"436,-993 436,-1014 800,-1014 800,-993 436,-993\"/>\n",
       "<text text-anchor=\"start\" x=\"538.5\" y=\"-999.8\" font-family=\"Times,serif\" font-size=\"14.00\">iiwa.torque_measured</text>\n",
       "<polygon fill=\"none\" stroke=\"black\" points=\"436,-972 436,-993 800,-993 800,-972 436,-972\"/>\n",
       "<text text-anchor=\"start\" x=\"544\" y=\"-978.8\" font-family=\"Times,serif\" font-size=\"14.00\">iiwa.torque_external</text>\n",
       "<polygon fill=\"none\" stroke=\"black\" points=\"436,-951 436,-972 800,-972 800,-951 436,-951\"/>\n",
       "<text text-anchor=\"start\" x=\"544.5\" y=\"-957.8\" font-family=\"Times,serif\" font-size=\"14.00\">wsg.state_measured</text>\n",
       "<polygon fill=\"none\" stroke=\"black\" points=\"436,-930 436,-951 800,-951 800,-930 436,-930\"/>\n",
       "<text text-anchor=\"start\" x=\"544.5\" y=\"-936.8\" font-family=\"Times,serif\" font-size=\"14.00\">wsg.force_measured</text>\n",
       "<polygon fill=\"none\" stroke=\"black\" points=\"436,-909 436,-930 800,-930 800,-909 436,-909\"/>\n",
       "<text text-anchor=\"start\" x=\"563.5\" y=\"-915.8\" font-family=\"Times,serif\" font-size=\"14.00\">geometry_pose</text>\n",
       "<polygon fill=\"none\" stroke=\"black\" points=\"436,-888 436,-909 800,-909 800,-888 436,-888\"/>\n",
       "<text text-anchor=\"start\" x=\"506\" y=\"-894.8\" font-family=\"Times,serif\" font-size=\"14.00\">deformable_body_configuration</text>\n",
       "<polygon fill=\"none\" stroke=\"black\" points=\"436,-867 436,-888 800,-888 800,-867 436,-867\"/>\n",
       "<text text-anchor=\"start\" x=\"599.5\" y=\"-873.8\" font-family=\"Times,serif\" font-size=\"14.00\">state</text>\n",
       "<polygon fill=\"none\" stroke=\"black\" points=\"436,-846 436,-867 800,-867 800,-846 436,-846\"/>\n",
       "<text text-anchor=\"start\" x=\"577\" y=\"-852.8\" font-family=\"Times,serif\" font-size=\"14.00\">body_poses</text>\n",
       "<polygon fill=\"none\" stroke=\"black\" points=\"436,-825 436,-846 800,-846 800,-825 436,-825\"/>\n",
       "<text text-anchor=\"start\" x=\"536\" y=\"-831.8\" font-family=\"Times,serif\" font-size=\"14.00\">body_spatial_velocities</text>\n",
       "<polygon fill=\"none\" stroke=\"black\" points=\"436,-804 436,-825 800,-825 800,-804 436,-804\"/>\n",
       "<text text-anchor=\"start\" x=\"522.5\" y=\"-810.8\" font-family=\"Times,serif\" font-size=\"14.00\">body_spatial_accelerations</text>\n",
       "<polygon fill=\"none\" stroke=\"black\" points=\"436,-783 436,-804 800,-804 800,-783 436,-783\"/>\n",
       "<text text-anchor=\"start\" x=\"529\" y=\"-789.8\" font-family=\"Times,serif\" font-size=\"14.00\">generalized_acceleration</text>\n",
       "<polygon fill=\"none\" stroke=\"black\" points=\"436,-762 436,-783 800,-783 800,-762 436,-762\"/>\n",
       "<text text-anchor=\"start\" x=\"569.5\" y=\"-768.8\" font-family=\"Times,serif\" font-size=\"14.00\">net_actuation</text>\n",
       "<polygon fill=\"none\" stroke=\"black\" points=\"436,-741 436,-762 800,-762 800,-741 436,-741\"/>\n",
       "<text text-anchor=\"start\" x=\"563.5\" y=\"-747.8\" font-family=\"Times,serif\" font-size=\"14.00\">reaction_forces</text>\n",
       "<polygon fill=\"none\" stroke=\"black\" points=\"436,-720 436,-741 800,-741 800,-720 436,-720\"/>\n",
       "<text text-anchor=\"start\" x=\"563.5\" y=\"-726.8\" font-family=\"Times,serif\" font-size=\"14.00\">contact_results</text>\n",
       "<polygon fill=\"none\" stroke=\"black\" points=\"436,-699 436,-720 800,-720 800,-699 436,-699\"/>\n",
       "<text text-anchor=\"start\" x=\"523\" y=\"-705.8\" font-family=\"Times,serif\" font-size=\"14.00\" fill=\"grey\">WorldModelInstance_state</text>\n",
       "<polygon fill=\"none\" stroke=\"black\" points=\"436,-678 436,-699 800,-699 800,-678 436,-678\"/>\n",
       "<text text-anchor=\"start\" x=\"452.5\" y=\"-684.8\" font-family=\"Times,serif\" font-size=\"14.00\" fill=\"grey\">WorldModelInstance_generalized_acceleration</text>\n",
       "<polygon fill=\"none\" stroke=\"black\" points=\"436,-657 436,-678 800,-678 800,-657 436,-657\"/>\n",
       "<text text-anchor=\"start\" x=\"444.5\" y=\"-663.8\" font-family=\"Times,serif\" font-size=\"14.00\" fill=\"grey\">WorldModelInstance_generalized_contact_forces</text>\n",
       "<polygon fill=\"none\" stroke=\"black\" points=\"436,-636 436,-657 800,-657 800,-636 436,-636\"/>\n",
       "<text text-anchor=\"start\" x=\"492.5\" y=\"-642.8\" font-family=\"Times,serif\" font-size=\"14.00\" fill=\"grey\">WorldModelInstance_net_actuation</text>\n",
       "<polygon fill=\"none\" stroke=\"black\" points=\"436,-615 436,-636 800,-636 800,-615 436,-615\"/>\n",
       "<text text-anchor=\"start\" x=\"517.5\" y=\"-621.8\" font-family=\"Times,serif\" font-size=\"14.00\" fill=\"grey\">DefaultModelInstance_state</text>\n",
       "<polygon fill=\"none\" stroke=\"black\" points=\"436,-594 436,-615 800,-615 800,-594 436,-594\"/>\n",
       "<text text-anchor=\"start\" x=\"447\" y=\"-600.8\" font-family=\"Times,serif\" font-size=\"14.00\" fill=\"grey\">DefaultModelInstance_generalized_acceleration</text>\n",
       "<polygon fill=\"none\" stroke=\"black\" points=\"436,-573 436,-594 800,-594 800,-573 436,-573\"/>\n",
       "<text text-anchor=\"start\" x=\"439\" y=\"-579.8\" font-family=\"Times,serif\" font-size=\"14.00\" fill=\"grey\">DefaultModelInstance_generalized_contact_forces</text>\n",
       "<polygon fill=\"none\" stroke=\"black\" points=\"436,-552 436,-573 800,-573 800,-552 436,-552\"/>\n",
       "<text text-anchor=\"start\" x=\"487\" y=\"-558.8\" font-family=\"Times,serif\" font-size=\"14.00\" fill=\"grey\">DefaultModelInstance_net_actuation</text>\n",
       "<polygon fill=\"none\" stroke=\"black\" points=\"436,-531 436,-552 800,-552 800,-531 436,-531\"/>\n",
       "<text text-anchor=\"start\" x=\"581.5\" y=\"-537.8\" font-family=\"Times,serif\" font-size=\"14.00\">iiwa_state</text>\n",
       "<polygon fill=\"none\" stroke=\"black\" points=\"436,-510 436,-531 800,-531 800,-510 436,-510\"/>\n",
       "<text text-anchor=\"start\" x=\"511\" y=\"-516.8\" font-family=\"Times,serif\" font-size=\"14.00\">iiwa_generalized_acceleration</text>\n",
       "<polygon fill=\"none\" stroke=\"black\" points=\"436,-489 436,-510 800,-510 800,-489 436,-489\"/>\n",
       "<text text-anchor=\"start\" x=\"503.5\" y=\"-495.8\" font-family=\"Times,serif\" font-size=\"14.00\">iiwa_generalized_contact_forces</text>\n",
       "<polygon fill=\"none\" stroke=\"black\" points=\"436,-468 436,-489 800,-489 800,-468 436,-468\"/>\n",
       "<text text-anchor=\"start\" x=\"551.5\" y=\"-474.8\" font-family=\"Times,serif\" font-size=\"14.00\">iiwa_net_actuation</text>\n",
       "<polygon fill=\"none\" stroke=\"black\" points=\"436,-447 436,-468 800,-468 800,-447 436,-447\"/>\n",
       "<text text-anchor=\"start\" x=\"582\" y=\"-453.8\" font-family=\"Times,serif\" font-size=\"14.00\">wsg_state</text>\n",
       "<polygon fill=\"none\" stroke=\"black\" points=\"436,-426 436,-447 800,-447 800,-426 436,-426\"/>\n",
       "<text text-anchor=\"start\" x=\"511.5\" y=\"-432.8\" font-family=\"Times,serif\" font-size=\"14.00\">wsg_generalized_acceleration</text>\n",
       "<polygon fill=\"none\" stroke=\"black\" points=\"436,-405 436,-426 800,-426 800,-405 436,-405\"/>\n",
       "<text text-anchor=\"start\" x=\"503.5\" y=\"-411.8\" font-family=\"Times,serif\" font-size=\"14.00\">wsg_generalized_contact_forces</text>\n",
       "<polygon fill=\"none\" stroke=\"black\" points=\"436,-384 436,-405 800,-405 800,-384 436,-384\"/>\n",
       "<text text-anchor=\"start\" x=\"551.5\" y=\"-390.8\" font-family=\"Times,serif\" font-size=\"14.00\">wsg_net_actuation</text>\n",
       "<polygon fill=\"none\" stroke=\"black\" points=\"436,-363 436,-384 800,-384 800,-363 436,-363\"/>\n",
       "<text text-anchor=\"start\" x=\"580.5\" y=\"-369.8\" font-family=\"Times,serif\" font-size=\"14.00\" fill=\"grey\">bin0_state</text>\n",
       "<polygon fill=\"none\" stroke=\"black\" points=\"436,-342 436,-363 800,-363 800,-342 436,-342\"/>\n",
       "<text text-anchor=\"start\" x=\"510\" y=\"-348.8\" font-family=\"Times,serif\" font-size=\"14.00\" fill=\"grey\">bin0_generalized_acceleration</text>\n",
       "<polygon fill=\"none\" stroke=\"black\" points=\"436,-321 436,-342 800,-342 800,-321 436,-321\"/>\n",
       "<text text-anchor=\"start\" x=\"502\" y=\"-327.8\" font-family=\"Times,serif\" font-size=\"14.00\" fill=\"grey\">bin0_generalized_contact_forces</text>\n",
       "<polygon fill=\"none\" stroke=\"black\" points=\"436,-300 436,-321 800,-321 800,-300 436,-300\"/>\n",
       "<text text-anchor=\"start\" x=\"550\" y=\"-306.8\" font-family=\"Times,serif\" font-size=\"14.00\" fill=\"grey\">bin0_net_actuation</text>\n",
       "<polygon fill=\"none\" stroke=\"black\" points=\"436,-279 436,-300 800,-300 800,-279 436,-279\"/>\n",
       "<text text-anchor=\"start\" x=\"580.5\" y=\"-285.8\" font-family=\"Times,serif\" font-size=\"14.00\" fill=\"grey\">bin1_state</text>\n",
       "<polygon fill=\"none\" stroke=\"black\" points=\"436,-258 436,-279 800,-279 800,-258 436,-258\"/>\n",
       "<text text-anchor=\"start\" x=\"510\" y=\"-264.8\" font-family=\"Times,serif\" font-size=\"14.00\" fill=\"grey\">bin1_generalized_acceleration</text>\n",
       "<polygon fill=\"none\" stroke=\"black\" points=\"436,-237 436,-258 800,-258 800,-237 436,-237\"/>\n",
       "<text text-anchor=\"start\" x=\"502\" y=\"-243.8\" font-family=\"Times,serif\" font-size=\"14.00\" fill=\"grey\">bin1_generalized_contact_forces</text>\n",
       "<polygon fill=\"none\" stroke=\"black\" points=\"436,-216 436,-237 800,-237 800,-216 436,-216\"/>\n",
       "<text text-anchor=\"start\" x=\"550\" y=\"-222.8\" font-family=\"Times,serif\" font-size=\"14.00\" fill=\"grey\">bin1_net_actuation</text>\n",
       "<polygon fill=\"none\" stroke=\"black\" points=\"436,-195 436,-216 800,-216 800,-195 436,-195\"/>\n",
       "<text text-anchor=\"start\" x=\"580\" y=\"-201.8\" font-family=\"Times,serif\" font-size=\"14.00\" fill=\"grey\">floor_state</text>\n",
       "<polygon fill=\"none\" stroke=\"black\" points=\"436,-174 436,-195 800,-195 800,-174 436,-174\"/>\n",
       "<text text-anchor=\"start\" x=\"509.5\" y=\"-180.8\" font-family=\"Times,serif\" font-size=\"14.00\" fill=\"grey\">floor_generalized_acceleration</text>\n",
       "<polygon fill=\"none\" stroke=\"black\" points=\"436,-153 436,-174 800,-174 800,-153 436,-153\"/>\n",
       "<text text-anchor=\"start\" x=\"502\" y=\"-159.8\" font-family=\"Times,serif\" font-size=\"14.00\" fill=\"grey\">floor_generalized_contact_forces</text>\n",
       "<polygon fill=\"none\" stroke=\"black\" points=\"436,-132 436,-153 800,-153 800,-132 436,-132\"/>\n",
       "<text text-anchor=\"start\" x=\"550\" y=\"-138.8\" font-family=\"Times,serif\" font-size=\"14.00\" fill=\"grey\">floor_net_actuation</text>\n",
       "<polygon fill=\"none\" stroke=\"black\" points=\"436,-111 436,-132 800,-132 800,-111 436,-111\"/>\n",
       "<text text-anchor=\"start\" x=\"557.5\" y=\"-117.8\" font-family=\"Times,serif\" font-size=\"14.00\">foam_brick_state</text>\n",
       "<polygon fill=\"none\" stroke=\"black\" points=\"436,-90 436,-111 800,-111 800,-90 436,-90\"/>\n",
       "<text text-anchor=\"start\" x=\"487\" y=\"-96.8\" font-family=\"Times,serif\" font-size=\"14.00\">foam_brick_generalized_acceleration</text>\n",
       "<polygon fill=\"none\" stroke=\"black\" points=\"436,-69 436,-90 800,-90 800,-69 436,-69\"/>\n",
       "<text text-anchor=\"start\" x=\"479\" y=\"-75.8\" font-family=\"Times,serif\" font-size=\"14.00\">foam_brick_generalized_contact_forces</text>\n",
       "<polygon fill=\"none\" stroke=\"black\" points=\"436,-48 436,-69 800,-69 800,-48 436,-48\"/>\n",
       "<text text-anchor=\"start\" x=\"527\" y=\"-54.8\" font-family=\"Times,serif\" font-size=\"14.00\" fill=\"grey\">foam_brick_net_actuation</text>\n",
       "<polygon fill=\"none\" stroke=\"black\" points=\"436,-27 436,-48 800,-48 800,-27 436,-27\"/>\n",
       "<text text-anchor=\"start\" x=\"572\" y=\"-33.8\" font-family=\"Times,serif\" font-size=\"14.00\">query_object</text>\n",
       "</g>\n",
       "<!-- s32465 -->\n",
       "<g id=\"node3\" class=\"node\">\n",
       "<title>s32465</title>\n",
       "<polygon fill=\"none\" stroke=\"black\" points=\"852.5,-1195 852.5,-1229 1127.5,-1229 1127.5,-1195 852.5,-1195\"/>\n",
       "<text text-anchor=\"start\" x=\"855.5\" y=\"-1215.8\" font-family=\"Times,serif\" font-weight=\"bold\" font-size=\"14.00\">__main__.PseudoInverseController</text>\n",
       "<text text-anchor=\"start\" x=\"875.5\" y=\"-1201.8\" font-family=\"Times,serif\" font-size=\"14.00\">name=PseudoInverseController</text>\n",
       "<polygon fill=\"none\" stroke=\"black\" points=\"852.5,-1174 852.5,-1195 990.5,-1195 990.5,-1174 852.5,-1174\"/>\n",
       "<text text-anchor=\"start\" x=\"900\" y=\"-1180.8\" font-family=\"Times,serif\" font-size=\"14.00\">V_WG</text>\n",
       "<polygon fill=\"none\" stroke=\"black\" points=\"990.5,-1153 990.5,-1195 1127.5,-1195 1127.5,-1153 990.5,-1153\"/>\n",
       "<text text-anchor=\"start\" x=\"1014\" y=\"-1170.3\" font-family=\"Times,serif\" font-size=\"14.00\">iiwa.velocity</text>\n",
       "<polygon fill=\"none\" stroke=\"black\" points=\"852.5,-1153 852.5,-1174 990.5,-1174 990.5,-1153 852.5,-1153\"/>\n",
       "<text text-anchor=\"start\" x=\"876\" y=\"-1159.8\" font-family=\"Times,serif\" font-size=\"14.00\">iiwa.position</text>\n",
       "</g>\n",
       "<!-- s32407&#45;&gt;s32465 -->\n",
       "<g id=\"edge2\" class=\"edge\">\n",
       "<title>s32407:e-&gt;s32465:w</title>\n",
       "<path fill=\"none\" stroke=\"black\" d=\"M801,-1088C837.26,-1088 816.48,-1149.07 841.6,-1160.99\"/>\n",
       "<polygon fill=\"black\" stroke=\"black\" points=\"841,-1164.44 851.5,-1163 842.39,-1157.58 841,-1164.44\"/>\n",
       "</g>\n",
       "<!-- s32464 -->\n",
       "<g id=\"node2\" class=\"node\">\n",
       "<title>s32464</title>\n",
       "<polygon fill=\"none\" stroke=\"black\" points=\"452,-1221 452,-1255 593,-1255 593,-1221 452,-1221\"/>\n",
       "<text text-anchor=\"start\" x=\"455\" y=\"-1241.8\" font-family=\"Times,serif\" font-weight=\"bold\" font-size=\"14.00\">TrajectorySource</text>\n",
       "<text text-anchor=\"start\" x=\"476.5\" y=\"-1227.8\" font-family=\"Times,serif\" font-size=\"14.00\">name=v_WG</text>\n",
       "<polyline fill=\"none\" stroke=\"grey\" points=\"452,-1221 452,-1200 513,-1200 \"/>\n",
       "<polygon fill=\"none\" stroke=\"black\" points=\"513,-1200 513,-1221 593,-1221 593,-1200 513,-1200\"/>\n",
       "<text text-anchor=\"start\" x=\"544\" y=\"-1206.8\" font-family=\"Times,serif\" font-size=\"14.00\">y0</text>\n",
       "</g>\n",
       "<!-- s32464&#45;&gt;s32465 -->\n",
       "<g id=\"edge1\" class=\"edge\">\n",
       "<title>s32464:e-&gt;s32465:w</title>\n",
       "<path fill=\"none\" stroke=\"black\" d=\"M594,-1210C600.4,-1210 793.95,-1189.38 841.29,-1184.87\"/>\n",
       "<polygon fill=\"black\" stroke=\"black\" points=\"841.83,-1188.33 851.5,-1184 841.24,-1181.36 841.83,-1188.33\"/>\n",
       "</g>\n",
       "<!-- s32466 -->\n",
       "<g id=\"node4\" class=\"node\">\n",
       "<title>s32466</title>\n",
       "<polygon fill=\"none\" stroke=\"black\" points=\"1179,-1163 1179,-1197 1309,-1197 1309,-1163 1179,-1163\"/>\n",
       "<text text-anchor=\"start\" x=\"1202.5\" y=\"-1183.8\" font-family=\"Times,serif\" font-weight=\"bold\" font-size=\"14.00\">Integrator</text>\n",
       "<text text-anchor=\"start\" x=\"1182\" y=\"-1169.8\" font-family=\"Times,serif\" font-size=\"14.00\">name=integrator</text>\n",
       "<polygon fill=\"none\" stroke=\"black\" points=\"1179,-1142 1179,-1163 1244,-1163 1244,-1142 1179,-1142\"/>\n",
       "<text text-anchor=\"start\" x=\"1202\" y=\"-1148.8\" font-family=\"Times,serif\" font-size=\"14.00\">u0</text>\n",
       "<polygon fill=\"none\" stroke=\"black\" points=\"1244,-1142 1244,-1163 1309,-1163 1309,-1142 1244,-1142\"/>\n",
       "<text text-anchor=\"start\" x=\"1267.5\" y=\"-1148.8\" font-family=\"Times,serif\" font-size=\"14.00\">y0</text>\n",
       "</g>\n",
       "<!-- s32465&#45;&gt;s32466 -->\n",
       "<g id=\"edge5\" class=\"edge\">\n",
       "<title>s32465:e-&gt;s32466:w</title>\n",
       "<path fill=\"none\" stroke=\"black\" d=\"M1128.5,-1174C1148.63,-1174 1152.87,-1158.63 1167.78,-1153.58\"/>\n",
       "<polygon fill=\"black\" stroke=\"black\" points=\"1168.65,-1156.99 1178,-1152 1167.58,-1150.07 1168.65,-1156.99\"/>\n",
       "</g>\n",
       "<!-- s32466&#45;&gt;s32407 -->\n",
       "<g id=\"edge3\" class=\"edge\">\n",
       "<title>s32466:e-&gt;s32407:w</title>\n",
       "<path fill=\"none\" stroke=\"black\" d=\"M1310,-1152C1316.02,-1152 1313.41,-1142.59 1309,-1138.5 1264.06,-1096.76 1232.33,-1138.36 1171,-1138.5 1025.67,-1138.83 977.19,-1081.83 844,-1140 822.53,-1149.38 829.49,-1169.17 808,-1178.5 793.63,-1184.74 255.19,-1189.46 244,-1178.5 231.61,-1166.36 224.55,-1142.35 233.5,-1133.44\"/>\n",
       "<polygon fill=\"black\" stroke=\"black\" points=\"234.79,-1136.69 243,-1130 232.41,-1130.11 234.79,-1136.69\"/>\n",
       "</g>\n",
       "<!-- s32467 -->\n",
       "<g id=\"node5\" class=\"node\">\n",
       "<title>s32467</title>\n",
       "<polygon fill=\"none\" stroke=\"black\" points=\"32,-1120 32,-1154 192,-1154 192,-1120 32,-1120\"/>\n",
       "<text text-anchor=\"start\" x=\"44.5\" y=\"-1140.8\" font-family=\"Times,serif\" font-weight=\"bold\" font-size=\"14.00\">TrajectorySource</text>\n",
       "<text text-anchor=\"start\" x=\"35\" y=\"-1126.8\" font-family=\"Times,serif\" font-size=\"14.00\">name=wsg.command</text>\n",
       "<polyline fill=\"none\" stroke=\"grey\" points=\"32,-1120 32,-1099 103,-1099 \"/>\n",
       "<polygon fill=\"none\" stroke=\"black\" points=\"103,-1099 103,-1120 192,-1120 192,-1099 103,-1099\"/>\n",
       "<text text-anchor=\"start\" x=\"138.5\" y=\"-1105.8\" font-family=\"Times,serif\" font-size=\"14.00\">y0</text>\n",
       "</g>\n",
       "<!-- s32467&#45;&gt;s32407 -->\n",
       "<g id=\"edge4\" class=\"edge\">\n",
       "<title>s32467:e-&gt;s32407:w</title>\n",
       "<path fill=\"none\" stroke=\"black\" d=\"M193,-1109C211.4,-1109 218.38,-1109 232.85,-1109\"/>\n",
       "<polygon fill=\"black\" stroke=\"black\" points=\"233,-1112.5 243,-1109 233,-1105.5 233,-1112.5\"/>\n",
       "</g>\n",
       "</g>\n",
       "</svg>"
      ],
      "text/plain": [
       "<IPython.core.display.SVG object>"
      ]
     },
     "metadata": {},
     "output_type": "display_data"
    }
   ],
   "source": [
    "RenderDiagram(diagram, max_depth=1)"
   ]
  },
  {
   "cell_type": "code",
   "execution_count": null,
   "id": "c6b7b1af",
   "metadata": {
    "colab": {},
    "colab_type": "code",
    "id": "JX1Oq7gfWsBD"
   },
   "outputs": [],
   "source": []
  }
 ],
 "metadata": {
  "kernelspec": {
   "display_name": "Python (drake_env)",
   "language": "python",
   "name": "drake_env"
  },
  "language_info": {
   "codemirror_mode": {
    "name": "ipython",
    "version": 3
   },
   "file_extension": ".py",
   "mimetype": "text/x-python",
   "name": "python",
   "nbconvert_exporter": "python",
   "pygments_lexer": "ipython3",
   "version": "3.12.3"
  }
 },
 "nbformat": 4,
 "nbformat_minor": 5
}
