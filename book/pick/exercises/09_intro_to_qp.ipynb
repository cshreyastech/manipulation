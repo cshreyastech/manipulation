{
 "cells": [
  {
   "cell_type": "markdown",
   "metadata": {
    "colab_type": "text",
    "id": "ERSps3-ac4Po"
   },
   "source": [
    "# Introduction to QP"
   ]
  },
  {
   "cell_type": "code",
   "execution_count": 1,
   "metadata": {
    "colab": {},
    "colab_type": "code",
    "id": "tFMmTfbHWQfh"
   },
   "outputs": [],
   "source": [
    "# python libraries\n",
    "import numpy as np\n",
    "from pydrake.all import MathematicalProgram, Solve, eq, ge, le"
   ]
  },
  {
   "cell_type": "markdown",
   "metadata": {
    "colab_type": "text",
    "id": "ze9gQeOVOJUA"
   },
   "source": [
    "# Introduction to MathematicalProgram \n",
    "\n",
    "The purpose of this exercise is to get you familiar with the basics of what an instance of an optimization problem is, as well as how to solve it. \n",
    "\n",
    "An optimization problem is usually written as \n",
    "\n",
    "$$\\begin{aligned} \\min_x \\quad & f(x) \\\\ \\textrm{s.t.} \\quad & g(x)\\leq 0,\\\\ \\quad &  h(x)=0 \\end{aligned}$$\n",
    "\n",
    "We call $x$ the **decision variable**, $f(x)$ the **cost function**, $g(x)\\leq 0$ an **inequality constraint**, and $h(x)=0$ an **equality constraint**. We usually denote the optimal solution by $x^*$. Most of the times, the constraints are hard-constraints, meaning that they must be fulfilled by the optimal solution. \n",
    "\n",
    "Drake offers a very good interface to many solvers using `MathematicalProgram`. Let's try to solve a simple problem using `MathematicalProgram`: \n",
    "\n",
    "$$\\begin{aligned} \\min_x \\quad & \\frac{1}{2}x^2 \\\\ \\textrm{s.t.} \\quad & x\\geq 3 \\end{aligned}$$\n",
    "\n",
    "Before we start coding, what do you expect the answer to be? You should persuade yourself that the optimal solution is $x^*=3$, since that is value at which minimum cost is achieved without violating the constraint.\n",
    "\n"
   ]
  },
  {
   "cell_type": "code",
   "execution_count": 2,
   "metadata": {
    "colab": {},
    "colab_type": "code",
    "id": "Khi7GeVNcwtU"
   },
   "outputs": [],
   "source": [
    "# \"\"\"\n",
    "# Steps to solve a optimization problem using Drake's MathematicalProgram\n",
    "# \"\"\"\n",
    "\n",
    "# # 1. Define an instance of MathematicalProgram\n",
    "# prog = MathematicalProgram()\n",
    "\n",
    "# # 2. Add decision varaibles\n",
    "# x = prog.NewContinuousVariables(1)\n",
    "\n",
    "# # 3. Add Cost function\n",
    "# prog.AddCost(x.dot(x))\n",
    "\n",
    "# # 4. Add Constraints\n",
    "# prog.AddConstraint(x[0] >= 3)\n",
    "\n",
    "# # 5. Solve the problem\n",
    "# result = Solve(prog)\n",
    "\n",
    "# # 6. Get the solution\n",
    "# if result.is_success():\n",
    "#     print(\"Solution: \" + str(result.GetSolution()))"
   ]
  },
  {
   "cell_type": "markdown",
   "metadata": {
    "colab_type": "text",
    "id": "HvEI7697UUZC"
   },
   "source": [
    "You should have seen that we were successful in getting the expected solution of $x^*=3$. \n",
    "\n",
    "A particular class of problems that we want to focus on this problem are [Quadratic Programs (QP)](https://en.wikipedia.org/wiki/Quadratic_programming), which can be solved very efficiently in practice (even on the order of kHz).\n",
    "\n",
    "The general formulation of these problems are defined as follows. \n",
    "\n",
    "$$\\begin{aligned} \\min_x \\quad & \\frac{1}{2}x^T\\mathbf{Q}x + c^Tx \\\\ \\textrm{s.t.} \\quad & \\mathbf{A}x\\leq b,\\\\ \\quad &  \\mathbf{A}'x=b' \\end{aligned}$$\n",
    "\n",
    "where $\\mathbf{Q}$ is a positive-definite, symmetric matrix. Note that the cost is a quadratic function of the decision variables, while the constraints are all linear. This is what defines a convex QP. \n",
    "\n",
    "Let's practice solving a simple QP: \n",
    "\n",
    "$$\\begin{aligned} \\min_{x_0,x_1,x_2} \\quad & x_0^2 + x_1^2 + x_2^2 \\\\ \\textrm{s.t.} \\quad & \\begin{pmatrix} 2 & 3 & 1 \\\\ 5 & 1 & 0 \\end{pmatrix} \\begin{pmatrix} x_0 \\\\ x_1 \\\\ x_2 \\end{pmatrix} = \\begin{pmatrix} 1 \\\\ 1 \\end{pmatrix}\\\\  \\quad &  \\begin{pmatrix} x_0 \\\\ x_1 \\\\ x_2 \\end{pmatrix} \\leq \\begin{pmatrix} 2 \\\\ 2 \\\\ 2\\end{pmatrix} \\end{aligned}$$\n",
    "\n",
    "To conveniently write down constraints that are vector-valued, Drake offers `eq,le,ge` for elementwise constraints. It might take some time to learn the syntax of constraints. For a more well-written and in-depth introduction to `MathematicalProgram`, [this notebook tutorial](https://deepnote.com/workspace/Drake-0b3b2c53-a7ad-441b-80f8-bf8350752305/project/Tutorials-2b4fc509-aef2-417d-a40d-6071dfed9199/notebook/mathematical_program-4c4f4de7d5d3452daacf45c20b315d31) is incredibly useful. \n",
    " \n"
   ]
  },
  {
   "cell_type": "code",
   "execution_count": 3,
   "metadata": {
    "colab": {},
    "colab_type": "code",
    "id": "SNvpjgzxVQJC"
   },
   "outputs": [],
   "source": [
    "# prog = MathematicalProgram()\n",
    "\n",
    "# x = prog.NewContinuousVariables(3)\n",
    "# prog.AddCost(x.dot(x))\n",
    "\n",
    "# prog.AddConstraint(eq(np.array([[2, 3, 1], [5, 1, 0]]).dot(x), [1, 1]))\n",
    "# prog.AddConstraint(le(x, 2 * np.ones(3)))\n",
    "\n",
    "# result = Solve(prog)\n",
    "\n",
    "# # 6. Get the solution\n",
    "# if result.is_success():\n",
    "#     print(\"Solution: \" + str(result.GetSolution()))"
   ]
  },
  {
   "cell_type": "code",
   "execution_count": 4,
   "metadata": {},
   "outputs": [],
   "source": [
    "# # Same solution with variables\n",
    "# prog = MathematicalProgram()\n",
    "\n",
    "# x = prog.NewContinuousVariables(3)\n",
    "# # H = x.dot(x)\n",
    "# H = pow(x[0], 2) + pow(x[1], 2) + pow(x[2], 2)\n",
    "\n",
    "# A = np.array([[2, 3, 1], [5, 1, 0]])\n",
    "# b = [1, 1]\n",
    "# UB = 2 * np.ones(3)\n",
    "\n",
    "# prog.AddCost(H)\n",
    "# prog.AddConstraint(eq(A.dot(x), b))\n",
    "# prog.AddConstraint(le(x, UB))\n",
    "\n",
    "# result = Solve(prog)\n",
    "\n",
    "# # 6. Get the solution\n",
    "# if result.is_success():\n",
    "#     print(\"Solution: \" + str(result.GetSolution()))"
   ]
  },
  {
   "cell_type": "markdown",
   "metadata": {},
   "source": [
    "Soling with another aproach"
   ]
  },
  {
   "cell_type": "code",
   "execution_count": 5,
   "metadata": {},
   "outputs": [],
   "source": [
    "# prog = MathematicalProgram()\n",
    "\n",
    "# x = prog.NewContinuousVariables(3, \"x\")\n",
    "\n",
    "# Q = np.diag([2, 2, 2])  # Because Drake uses 0.5 * xᵀQx\n",
    "\n",
    "# A = np.array([[2, 3, 1], [5, 1, 0]])\n",
    "# b = [1, 1]\n",
    "# UB = 2 * np.ones(3)\n",
    "\n",
    "# # prog.AddCost(H)\n",
    "# prog.AddQuadraticCost(Q, np.zeros(3), x)\n",
    "# prog.AddLinearEqualityConstraint(A, b, x)\n",
    "# prog.AddConstraint(le(x, UB))\n",
    "\n",
    "# result = Solve(prog)\n",
    "\n",
    "# # 6. Get the solution\n",
    "# if result.is_success():\n",
    "#     print(\"Solution: \" + str(result.GetSolution()))"
   ]
  },
  {
   "cell_type": "markdown",
   "metadata": {
    "colab_type": "text",
    "id": "SmYZWSewSwf6"
   },
   "source": [
    "\n",
    "**Now, it's your turn to solve a simple problem!** \n",
    "\n",
    "You must solve the following problem and store the result in a variable named `result_submission`. \n",
    "\n",
    "$$\\begin{aligned} \\min_{x_0,x_1,x_2} \\quad & 2x_0^2 + x_1^2 + 4x_2^2 \\\\ \\textrm{s.t.} \\quad & \\begin{pmatrix} 1 & 2 & 3 \\\\ 2 & 7 & 4 \\end{pmatrix} \\begin{pmatrix} x_0 \\\\ x_1  \\\\ x_2 \\end{pmatrix} = \\begin{pmatrix} 1 \\\\ 1 \\end{pmatrix} \\\\ \\quad &  |x| \\leq \\begin{pmatrix} 0.35 \\\\ 0.35 \\\\ 0.35\\end{pmatrix} \\end{aligned}$$\n",
    "\n",
    "NOTE: The last constraint says that the absolute value of `x[i]` must be less than the value of `b_bb[i]`. You cannot put an absolute value directly as a constraint, so there are two routes that you can take:\n",
    "- Break the constraints down to two constraints that don't involve the absolute value.  \n",
    "- Drake offers [`AddBoundingBoxConstraint`](https://drake.mit.edu/pydrake/pydrake.solvers.html?highlight=addboundingboxconstraint#pydrake.solvers.MathematicalProgram.AddBoundingBoxConstraint) which you may use in your implementation."
   ]
  },
  {
   "cell_type": "code",
   "execution_count": 6,
   "metadata": {
    "colab": {},
    "colab_type": "code",
    "id": "qhMB4kc3asCE"
   },
   "outputs": [],
   "source": [
    "# # Create the program\n",
    "# prog = MathematicalProgram()\n",
    "# x = prog.NewContinuousVariables(3, \"x\")\n",
    "\n",
    "# # Define Q, b_eq, A_eq with correct float64 types\n",
    "# Q = np.diag([4.0, 2.0, 8.0]).astype(np.float64)\n",
    "# b = np.zeros(3, dtype=np.float64)\n",
    "# prog.AddQuadraticCost(Q, b, x)\n",
    "\n",
    "# A_eq = np.array([[1.0, 2.0, 3.0],\n",
    "#                  [2.0, 7.0, 4.0]], dtype=np.float64)\n",
    "# b_eq = np.array([1.0, 1.0], dtype=np.float64)\n",
    "# prog.AddLinearEqualityConstraint(A_eq, b_eq, x)\n",
    "\n",
    "# bounds = np.full(3, 0.35, dtype=np.float64)\n",
    "# prog.AddBoundingBoxConstraint(-bounds, bounds, x)\n",
    "\n",
    "# # Solve the problem\n",
    "# result = Solve(prog)\n",
    "\n",
    "# # Extract the solution\n",
    "# if result.is_success():\n",
    "#     result_submission = result.GetSolution(x)\n",
    "# else:\n",
    "#     result_submission = None"
   ]
  },
  {
   "cell_type": "code",
   "execution_count": 9,
   "metadata": {},
   "outputs": [],
   "source": [
    "# prog = MathematicalProgram()\n",
    "# x = prog.NewContinuousVariables(3)\n",
    "# H = 2.0 *(2.0 * pow(x[0], 2) + 1.0 * pow(x[1], 2) + 4.0 * pow(x[2], 2))\n",
    "\n",
    "# A = np.array([[1.0, 2.0, 3.0], \n",
    "#               [2.0, 7.0, 4.0]], dtype=np.float64)\n",
    "# b = np.array([1.0, 1.0], dtype=np.float64)\n",
    "\n",
    "# bounds = np.full(3, 0.35, dtype=np.float64)\n",
    "\n",
    "# prog.AddCost(H)\n",
    "# prog.AddConstraint(eq(A.dot(x), b))\n",
    "\n",
    "# prog.AddConstraint(ge(x, -bounds))\n",
    "# prog.AddConstraint(le(x, bounds))\n",
    "\n",
    "# # Solve the problem\n",
    "# result = Solve(prog)\n",
    "\n",
    "# # Extract the solution\n",
    "# if result.is_success():\n",
    "#     result_submission = result.GetSolution(x)\n",
    "# else:\n",
    "#     result_submission = None"
   ]
  },
  {
   "cell_type": "code",
   "execution_count": 13,
   "metadata": {},
   "outputs": [],
   "source": [
    "# Create the program\n",
    "prog = MathematicalProgram()\n",
    "x = prog.NewContinuousVariables(3, \"x\")\n",
    "\n",
    "# Define cost matrix Q such that 0.5 * xᵀQx = 2x₀² + x₁² + 4x₂²\n",
    "Q = np.diag([4.0, 2.0, 8.0])  # So Drake does (1/2)xᵀQx\n",
    "b = np.zeros(3)\n",
    "prog.AddQuadraticCost(Q, b, x)\n",
    "\n",
    "# Equality constraint\n",
    "A_eq = np.array([[1.0, 2.0, 3.0],\n",
    "                 [2.0, 7.0, 4.0]], dtype=np.float64)\n",
    "b_eq = np.array([1.0, 1.0], dtype=np.float64)\n",
    "prog.AddLinearEqualityConstraint(A_eq, b_eq, x)\n",
    "\n",
    "# Bounding box constraint: |x[i]| <= 0.35\n",
    "prog.AddBoundingBoxConstraint(-0.35, 0.35, x)\n",
    "\n",
    "# Solve\n",
    "result = Solve(prog)\n",
    "\n",
    "if result.is_success():\n",
    "    result_submission = result.GetSolution(x)\n",
    "else:\n",
    "    result_submission = None"
   ]
  },
  {
   "cell_type": "markdown",
   "metadata": {
    "colab_type": "text",
    "id": "zPmeRLtJk410"
   },
   "source": [
    "## How will this notebook be Graded?\n",
    "\n",
    "If you are enrolled in the class, this notebook will be graded using [Gradescope](www.gradescope.com). You should have gotten the enrollement code on our announcement in Piazza. \n",
    "\n",
    "For submission of this assignment, you must do as follows:\n",
    "- Download and submit the notebook `intro_to_qp.ipynb` to Gradescope's notebook submission section, along with your notebook for the other problems.\n",
    "\n",
    "We will evaluate the local functions in the notebook to see if the function behaves as we have expected. For this exercise, the rubric is as follows:\n",
    "- [4 pts] `result_submission` must have the correct answer to the QP. "
   ]
  },
  {
   "cell_type": "markdown",
   "metadata": {
    "colab_type": "text",
    "id": "t4GLP2woecl5"
   },
   "source": [
    "Below is our autograder where you can check the correctness of your implementations. "
   ]
  },
  {
   "cell_type": "code",
   "execution_count": 14,
   "metadata": {
    "colab": {},
    "colab_type": "code",
    "id": "Ea4zI6Enefhx"
   },
   "outputs": [
    {
     "name": "stdout",
     "output_type": "stream",
     "text": [
      "Total score is 0/4.\n",
      "\n",
      "Score for Test Simple QP problem is 0/4.\n",
      "- Test Failed: np.float64(1.9253298796407386e-05) not less than or equal to 1e-06 : The answer to the QP is not correct.\n",
      "\n"
     ]
    }
   ],
   "source": [
    "from manipulation.exercises.grader import Grader\n",
    "from manipulation.exercises.pick.test_simple_qp import TestSimpleQP\n",
    "\n",
    "Grader.grade_output([TestSimpleQP], [locals()], \"results.json\")\n",
    "Grader.print_test_results(\"results.json\")"
   ]
  },
  {
   "cell_type": "code",
   "execution_count": null,
   "metadata": {},
   "outputs": [],
   "source": []
  }
 ],
 "metadata": {
  "celltoolbar": "Tags",
  "colab": {
   "collapsed_sections": [],
   "name": "intro_to_qp.ipynb",
   "provenance": []
  },
  "kernelspec": {
   "display_name": "Python (drake_env)",
   "language": "python",
   "name": "drake_env"
  },
  "language_info": {
   "codemirror_mode": {
    "name": "ipython",
    "version": 3
   },
   "file_extension": ".py",
   "mimetype": "text/x-python",
   "name": "python",
   "nbconvert_exporter": "python",
   "pygments_lexer": "ipython3",
   "version": "3.12.3"
  },
  "vscode": {
   "interpreter": {
    "hash": "e7370f93d1d0cde622a1f8e1c04877d8463912d04d973331ad4851f04de6915a"
   }
  }
 },
 "nbformat": 4,
 "nbformat_minor": 1
}
