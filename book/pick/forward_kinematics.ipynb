{
 "cells": [
  {
   "cell_type": "markdown",
   "metadata": {
    "colab_type": "text",
    "id": "EgiF12Hf1Dhs"
   },
   "source": [
    "This notebook provides examples to go along with the [textbook](http://manipulation.csail.mit.edu/pick.html).  I recommend having both windows open, side-by-side!"
   ]
  },
  {
   "cell_type": "code",
   "execution_count": 1,
   "metadata": {
    "colab": {},
    "colab_type": "code",
    "id": "eeMrMI0-1Dhu"
   },
   "outputs": [],
   "source": [
    "import numpy as np\n",
    "from IPython.display import clear_output\n",
    "from pydrake.all import (\n",
    "    AbstractValue,\n",
    "    AddMultibodyPlantSceneGraph,\n",
    "    DiagramBuilder,\n",
    "    JointSliders,\n",
    "    LeafSystem,\n",
    "    MeshcatVisualizer,\n",
    "    Parser,\n",
    "    RigidTransform,\n",
    "    RollPitchYaw,\n",
    "    StartMeshcat,\n",
    ")\n",
    "\n",
    "from manipulation import ConfigureParser, running_as_notebook\n",
    "from manipulation.scenarios import AddMultibodyTriad"
   ]
  },
  {
   "cell_type": "code",
   "execution_count": 2,
   "metadata": {},
   "outputs": [
    {
     "name": "stderr",
     "output_type": "stream",
     "text": [
      "INFO:drake:Meshcat listening for connections at http://localhost:7001\n"
     ]
    }
   ],
   "source": [
    "# Start the visualizer.\n",
    "meshcat = StartMeshcat()"
   ]
  },
  {
   "cell_type": "markdown",
   "metadata": {
    "colab_type": "text",
    "id": "wSa5QcU0Piak"
   },
   "source": [
    "# Forward kinematics of the gripper frame\n",
    "\n",
    "Here is a simple example that let's you visualize the frames on the iiwa and the gripper.  If you click on the \"Open Controls\" menu in the MeshCat visualizer, and dig into the menu `meshcat->drake->Source` then you will see elements for each of the models in the `SceneGraph`: one for the iiwa, another for the WSG, and others for the clutter bins.  You can enable/disable their visualization.  Give it a spin!"
   ]
  },
  {
   "cell_type": "code",
   "execution_count": null,
   "metadata": {
    "colab": {},
    "colab_type": "code",
    "id": "5SjOClhTltPk"
   },
   "outputs": [
    {
     "name": "stderr",
     "output_type": "stream",
     "text": [
      "INFO:drake:Press the 'Stop JointSliders' button in Meshcat or press 'Escape' to continue.\n"
     ]
    },
    {
     "name": "stdout",
     "output_type": "stream",
     "text": [
      "RigidTransform(\n",
      "  R=RotationMatrix([\n",
      "    [0.9999996829318348, 0.00019052063137842194, -0.0007731999219133522],\n",
      "    [0.0007963267107334455, -0.23924925335563643, 0.9709578572896668],\n",
      "    [1.868506971441006e-16, -0.9709581651495911, -0.23924932921398248],\n",
      "  ]),\n",
      "  p=[0.0003707832187589983, -0.4656168080232464, 0.6793215789060889],\n",
      ")\n",
      "gripper position (m): [0.00 -0.47 0.68]\n",
      "gripper roll-pitch-yaw (rad):[-1.81 -0.00 0.00]\n"
     ]
    }
   ],
   "source": [
    "class PrintPose(LeafSystem):\n",
    "    def __init__(self, body_index):\n",
    "        LeafSystem.__init__(self)\n",
    "        self._body_index = body_index\n",
    "        self.DeclareAbstractInputPort(\n",
    "            \"body_poses\", AbstractValue.Make([RigidTransform()])\n",
    "        )\n",
    "        self.DeclareForcedPublishEvent(self.Publish)\n",
    "\n",
    "    def Publish(self, context):\n",
    "        pose = self.get_input_port().Eval(context)[self._body_index]\n",
    "        print(pose)\n",
    "        print(\n",
    "            \"gripper position (m): \"\n",
    "            + np.array2string(\n",
    "                pose.translation(),\n",
    "                formatter={\"float\": lambda x: \"{:3.2f}\".format(x)},\n",
    "            )\n",
    "        )\n",
    "        print(\n",
    "            \"gripper roll-pitch-yaw (rad):\"\n",
    "            + np.array2string(\n",
    "                RollPitchYaw(pose.rotation()).vector(),\n",
    "                formatter={\"float\": lambda x: \"{:3.2f}\".format(x)},\n",
    "            )\n",
    "        )\n",
    "        clear_output(wait=True)\n",
    "\n",
    "\n",
    "def gripper_forward_kinematics_example():\n",
    "    builder = DiagramBuilder()\n",
    "\n",
    "    plant, scene_graph = AddMultibodyPlantSceneGraph(builder, time_step=0)\n",
    "    parser = Parser(plant)\n",
    "    ConfigureParser(parser)\n",
    "    parser.AddModelsFromUrl(\"package://manipulation/iiwa_and_wsg.dmd.yaml\")\n",
    "    plant.Finalize()\n",
    "\n",
    "    # Draw the frames\n",
    "    for body_name in [\n",
    "        \"iiwa_link_1\",\n",
    "        \"iiwa_link_2\",\n",
    "        \"iiwa_link_3\",\n",
    "        \"iiwa_link_4\",\n",
    "        \"iiwa_link_5\",\n",
    "        \"iiwa_link_6\",\n",
    "        \"iiwa_link_7\",\n",
    "        \"body\",\n",
    "    ]:\n",
    "        AddMultibodyTriad(plant.GetFrameByName(body_name), scene_graph)\n",
    "\n",
    "    meshcat.Delete()\n",
    "    meshcat.DeleteAddedControls()\n",
    "    visualizer = MeshcatVisualizer.AddToBuilder(\n",
    "        builder, scene_graph.get_query_output_port(), meshcat\n",
    "    )\n",
    "\n",
    "    wsg = plant.GetModelInstanceByName(\"wsg\")\n",
    "    gripper = plant.GetBodyByName(\"body\", wsg)\n",
    "    print_pose = builder.AddSystem(PrintPose(gripper.index()))\n",
    "    builder.Connect(plant.get_body_poses_output_port(), print_pose.get_input_port())\n",
    "\n",
    "    default_interactive_timeout = None if running_as_notebook else 1.0\n",
    "    sliders = builder.AddSystem(JointSliders(meshcat, plant))\n",
    "    diagram = builder.Build()\n",
    "    sliders.Run(diagram, default_interactive_timeout)\n",
    "    meshcat.DeleteAddedControls()\n",
    "\n",
    "\n",
    "gripper_forward_kinematics_example()"
   ]
  },
  {
   "cell_type": "code",
   "execution_count": null,
   "metadata": {},
   "outputs": [],
   "source": []
  }
 ],
 "metadata": {
  "colab": {
   "collapsed_sections": [],
   "name": "Robotic Manipulation - Basic Pick and Place.ipynb",
   "provenance": []
  },
  "kernelspec": {
   "display_name": "Python (drake_env)",
   "language": "python",
   "name": "drake_env"
  },
  "language_info": {
   "codemirror_mode": {
    "name": "ipython",
    "version": 3
   },
   "file_extension": ".py",
   "mimetype": "text/x-python",
   "name": "python",
   "nbconvert_exporter": "python",
   "pygments_lexer": "ipython3",
   "version": "3.12.3"
  },
  "vscode": {
   "interpreter": {
    "hash": "b0fa6594d8f4cbf19f97940f81e996739fb7646882a419484c72d19e05852a7e"
   }
  }
 },
 "nbformat": 4,
 "nbformat_minor": 2
}
